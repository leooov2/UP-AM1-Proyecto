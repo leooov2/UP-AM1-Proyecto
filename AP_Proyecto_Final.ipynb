{
 "cells": [
  {
   "cell_type": "markdown",
   "metadata": {},
   "source": [
    "## Carga de paquetes"
   ]
  },
  {
   "cell_type": "code",
   "execution_count": 1,
   "metadata": {},
   "outputs": [],
   "source": [
    "import pandas as pd"
   ]
  },
  {
   "cell_type": "markdown",
   "metadata": {},
   "source": [
    "### Carga de archivo"
   ]
  },
  {
   "cell_type": "code",
   "execution_count": 2,
   "metadata": {},
   "outputs": [],
   "source": [
    "df = pd.read_csv(\"Simulador_Redes_SN04_Tribu_Llena_tu_Refri_FINAL_V2.csv\", dtype=str )"
   ]
  },
  {
   "cell_type": "code",
   "execution_count": 3,
   "metadata": {},
   "outputs": [
    {
     "data": {
      "text/html": [
       "<div>\n",
       "<style scoped>\n",
       "    .dataframe tbody tr th:only-of-type {\n",
       "        vertical-align: middle;\n",
       "    }\n",
       "\n",
       "    .dataframe tbody tr th {\n",
       "        vertical-align: top;\n",
       "    }\n",
       "\n",
       "    .dataframe thead th {\n",
       "        text-align: right;\n",
       "    }\n",
       "</style>\n",
       "<table border=\"1\" class=\"dataframe\">\n",
       "  <thead>\n",
       "    <tr style=\"text-align: right;\">\n",
       "      <th></th>\n",
       "      <th>Tribu</th>\n",
       "      <th>Líder Tribu</th>\n",
       "      <th>Squad</th>\n",
       "      <th>Líder Squad</th>\n",
       "      <th>Departamento</th>\n",
       "      <th>Comprador</th>\n",
       "      <th>Depto</th>\n",
       "      <th>Cat</th>\n",
       "      <th>Categoría</th>\n",
       "      <th>Decil x Formato</th>\n",
       "      <th>...</th>\n",
       "      <th>%MB</th>\n",
       "      <th>Cuenta %MB</th>\n",
       "      <th>FP % Mgn In</th>\n",
       "      <th>Ventas TW</th>\n",
       "      <th>Fact Pond TW</th>\n",
       "      <th>Qty Prom L4W</th>\n",
       "      <th>Inventario (OH+WH+IT)</th>\n",
       "      <th>Impuestos</th>\n",
       "      <th>Días para RB</th>\n",
       "      <th>Unnamed: 203</th>\n",
       "    </tr>\n",
       "  </thead>\n",
       "  <tbody>\n",
       "    <tr>\n",
       "      <td>0</td>\n",
       "      <td>Llena Tu Refri Y Más</td>\n",
       "      <td>Juan Carlos Aja</td>\n",
       "      <td>Botanas Dulces Y Checkout</td>\n",
       "      <td>Roberto Ruiz</td>\n",
       "      <td>82, Impulso</td>\n",
       "      <td>Montserrat Galindo</td>\n",
       "      <td>82</td>\n",
       "      <td>10</td>\n",
       "      <td>DULCES</td>\n",
       "      <td>7</td>\n",
       "      <td>...</td>\n",
       "      <td>0</td>\n",
       "      <td>1</td>\n",
       "      <td>12541.66073</td>\n",
       "      <td>11,438</td>\n",
       "      <td>-735.3867772</td>\n",
       "      <td>32,931</td>\n",
       "      <td>314,823</td>\n",
       "      <td>1.08</td>\n",
       "      <td>NaN</td>\n",
       "      <td>NaN</td>\n",
       "    </tr>\n",
       "    <tr>\n",
       "      <td>1</td>\n",
       "      <td>Llena Tu Refri Y Más</td>\n",
       "      <td>Juan Carlos Aja</td>\n",
       "      <td>Botanas Dulces Y Checkout</td>\n",
       "      <td>Roberto Ruiz</td>\n",
       "      <td>82, Impulso</td>\n",
       "      <td>Montserrat Galindo</td>\n",
       "      <td>82</td>\n",
       "      <td>10</td>\n",
       "      <td>DULCES</td>\n",
       "      <td>8</td>\n",
       "      <td>...</td>\n",
       "      <td>0</td>\n",
       "      <td>1</td>\n",
       "      <td>7992.916707</td>\n",
       "      <td>7,606</td>\n",
       "      <td>-174.7276809</td>\n",
       "      <td>18,058</td>\n",
       "      <td>386,861</td>\n",
       "      <td>1.08</td>\n",
       "      <td>122</td>\n",
       "      <td>NaN</td>\n",
       "    </tr>\n",
       "    <tr>\n",
       "      <td>2</td>\n",
       "      <td>Llena Tu Refri Y Más</td>\n",
       "      <td>Juan Carlos Aja</td>\n",
       "      <td>Botanas Dulces Y Checkout</td>\n",
       "      <td>Roberto Ruiz</td>\n",
       "      <td>82, Impulso</td>\n",
       "      <td>Montserrat Galindo</td>\n",
       "      <td>82</td>\n",
       "      <td>10</td>\n",
       "      <td>DULCES</td>\n",
       "      <td>7</td>\n",
       "      <td>...</td>\n",
       "      <td>0</td>\n",
       "      <td>1</td>\n",
       "      <td>10721.53691</td>\n",
       "      <td>9,829</td>\n",
       "      <td>-544.7557196</td>\n",
       "      <td>23,565</td>\n",
       "      <td>394,285</td>\n",
       "      <td>1.08</td>\n",
       "      <td>137</td>\n",
       "      <td>NaN</td>\n",
       "    </tr>\n",
       "    <tr>\n",
       "      <td>3</td>\n",
       "      <td>Llena Tu Refri Y Más</td>\n",
       "      <td>Juan Carlos Aja</td>\n",
       "      <td>Botanas Dulces Y Checkout</td>\n",
       "      <td>Roberto Ruiz</td>\n",
       "      <td>82, Impulso</td>\n",
       "      <td>Montserrat Galindo</td>\n",
       "      <td>82</td>\n",
       "      <td>10</td>\n",
       "      <td>DULCES</td>\n",
       "      <td>8</td>\n",
       "      <td>...</td>\n",
       "      <td>0</td>\n",
       "      <td>1</td>\n",
       "      <td>6289.041647</td>\n",
       "      <td>6,146</td>\n",
       "      <td>-51.92818083</td>\n",
       "      <td>14,224</td>\n",
       "      <td>271,034</td>\n",
       "      <td>1.08</td>\n",
       "      <td>122</td>\n",
       "      <td>NaN</td>\n",
       "    </tr>\n",
       "    <tr>\n",
       "      <td>4</td>\n",
       "      <td>Llena Tu Refri Y Más</td>\n",
       "      <td>Juan Carlos Aja</td>\n",
       "      <td>Botanas Dulces Y Checkout</td>\n",
       "      <td>Roberto Ruiz</td>\n",
       "      <td>82, Impulso</td>\n",
       "      <td>Montserrat Galindo</td>\n",
       "      <td>82</td>\n",
       "      <td>10</td>\n",
       "      <td>DULCES</td>\n",
       "      <td>8</td>\n",
       "      <td>...</td>\n",
       "      <td>0</td>\n",
       "      <td>1</td>\n",
       "      <td>9270.485594</td>\n",
       "      <td>7,824</td>\n",
       "      <td>-331.4500031</td>\n",
       "      <td>20,376</td>\n",
       "      <td>316,980</td>\n",
       "      <td>1.08</td>\n",
       "      <td>137</td>\n",
       "      <td>NaN</td>\n",
       "    </tr>\n",
       "  </tbody>\n",
       "</table>\n",
       "<p>5 rows × 204 columns</p>\n",
       "</div>"
      ],
      "text/plain": [
       "                  Tribu      Líder Tribu                      Squad  \\\n",
       "0  Llena Tu Refri Y Más  Juan Carlos Aja  Botanas Dulces Y Checkout   \n",
       "1  Llena Tu Refri Y Más  Juan Carlos Aja  Botanas Dulces Y Checkout   \n",
       "2  Llena Tu Refri Y Más  Juan Carlos Aja  Botanas Dulces Y Checkout   \n",
       "3  Llena Tu Refri Y Más  Juan Carlos Aja  Botanas Dulces Y Checkout   \n",
       "4  Llena Tu Refri Y Más  Juan Carlos Aja  Botanas Dulces Y Checkout   \n",
       "\n",
       "    Líder Squad Departamento           Comprador Depto Cat Categoría  \\\n",
       "0  Roberto Ruiz  82, Impulso  Montserrat Galindo    82  10    DULCES   \n",
       "1  Roberto Ruiz  82, Impulso  Montserrat Galindo    82  10    DULCES   \n",
       "2  Roberto Ruiz  82, Impulso  Montserrat Galindo    82  10    DULCES   \n",
       "3  Roberto Ruiz  82, Impulso  Montserrat Galindo    82  10    DULCES   \n",
       "4  Roberto Ruiz  82, Impulso  Montserrat Galindo    82  10    DULCES   \n",
       "\n",
       "  Decil x Formato  ... %MB Cuenta %MB  FP % Mgn In  Ventas TW  Fact Pond TW  \\\n",
       "0               7  ...   0          1  12541.66073    11,438   -735.3867772   \n",
       "1               8  ...   0          1  7992.916707     7,606   -174.7276809   \n",
       "2               7  ...   0          1  10721.53691     9,829   -544.7557196   \n",
       "3               8  ...   0          1  6289.041647     6,146   -51.92818083   \n",
       "4               8  ...   0          1  9270.485594     7,824   -331.4500031   \n",
       "\n",
       "   Qty Prom L4W  Inventario (OH+WH+IT) Impuestos Días para RB Unnamed: 203  \n",
       "0       32,931                314,823      1.08           NaN          NaN  \n",
       "1       18,058                386,861      1.08           122          NaN  \n",
       "2       23,565                394,285      1.08           137          NaN  \n",
       "3       14,224                271,034      1.08           122          NaN  \n",
       "4       20,376                316,980      1.08           137          NaN  \n",
       "\n",
       "[5 rows x 204 columns]"
      ]
     },
     "execution_count": 3,
     "metadata": {},
     "output_type": "execute_result"
    }
   ],
   "source": [
    "df.head()"
   ]
  },
  {
   "cell_type": "markdown",
   "metadata": {},
   "source": [
    "### Procesamiento de información"
   ]
  },
  {
   "cell_type": "code",
   "execution_count": 4,
   "metadata": {},
   "outputs": [
    {
     "data": {
      "text/plain": [
       "Tribu                     False\n",
       "Líder Tribu               False\n",
       "Squad                     False\n",
       "Líder Squad               False\n",
       "Departamento              False\n",
       "                          ...  \n",
       " Qty Prom L4W             False\n",
       " Inventario (OH+WH+IT)     True\n",
       "Impuestos                 False\n",
       "Días para RB               True\n",
       "Unnamed: 203               True\n",
       "Length: 204, dtype: bool"
      ]
     },
     "execution_count": 4,
     "metadata": {},
     "output_type": "execute_result"
    }
   ],
   "source": [
    "df.isnull().any() ## Obtener nulos x columna"
   ]
  },
  {
   "cell_type": "code",
   "execution_count": 5,
   "metadata": {},
   "outputs": [
    {
     "data": {
      "text/html": [
       "<div>\n",
       "<style scoped>\n",
       "    .dataframe tbody tr th:only-of-type {\n",
       "        vertical-align: middle;\n",
       "    }\n",
       "\n",
       "    .dataframe tbody tr th {\n",
       "        vertical-align: top;\n",
       "    }\n",
       "\n",
       "    .dataframe thead th {\n",
       "        text-align: right;\n",
       "    }\n",
       "</style>\n",
       "<table border=\"1\" class=\"dataframe\">\n",
       "  <thead>\n",
       "    <tr style=\"text-align: right;\">\n",
       "      <th></th>\n",
       "      <th>Categoría</th>\n",
       "      <th>UPC</th>\n",
       "      <th>Descripción</th>\n",
       "      <th>Precio WM</th>\n",
       "      <th>Último %Dif Reportado</th>\n",
       "    </tr>\n",
       "  </thead>\n",
       "  <tbody>\n",
       "    <tr>\n",
       "      <td>0</td>\n",
       "      <td>DULCES</td>\n",
       "      <td>0789100024836</td>\n",
       "      <td>NESTLE KIT-KAT 4FING</td>\n",
       "      <td>$14.94</td>\n",
       "      <td>-6.4%</td>\n",
       "    </tr>\n",
       "    <tr>\n",
       "      <td>1</td>\n",
       "      <td>DULCES</td>\n",
       "      <td>0750617451226</td>\n",
       "      <td>SNICKERS CHOCOLATE C</td>\n",
       "      <td>$23.50</td>\n",
       "      <td>-2.3%</td>\n",
       "    </tr>\n",
       "    <tr>\n",
       "      <td>2</td>\n",
       "      <td>DULCES</td>\n",
       "      <td>0750617450264</td>\n",
       "      <td>SNICKERS 21.5 GR</td>\n",
       "      <td>$8.53</td>\n",
       "      <td>-5.5%</td>\n",
       "    </tr>\n",
       "    <tr>\n",
       "      <td>3</td>\n",
       "      <td>DULCES</td>\n",
       "      <td>0750617451222</td>\n",
       "      <td>MILKYWAY CHOCO 2PACK</td>\n",
       "      <td>$23.00</td>\n",
       "      <td>-0.8%</td>\n",
       "    </tr>\n",
       "    <tr>\n",
       "      <td>4</td>\n",
       "      <td>DULCES</td>\n",
       "      <td>0750617450265</td>\n",
       "      <td>MILKY WAY 22 GR</td>\n",
       "      <td>$8.61</td>\n",
       "      <td>-4.2%</td>\n",
       "    </tr>\n",
       "    <tr>\n",
       "      <td>...</td>\n",
       "      <td>...</td>\n",
       "      <td>...</td>\n",
       "      <td>...</td>\n",
       "      <td>...</td>\n",
       "      <td>...</td>\n",
       "    </tr>\n",
       "    <tr>\n",
       "      <td>3799</td>\n",
       "      <td>OTROS EMBUTIDOS</td>\n",
       "      <td>0750151849135</td>\n",
       "      <td>PARMA JAMON SERRANO</td>\n",
       "      <td>$85.06</td>\n",
       "      <td>1.8%</td>\n",
       "    </tr>\n",
       "    <tr>\n",
       "      <td>3800</td>\n",
       "      <td>OTROS EMBUTIDOS</td>\n",
       "      <td>0750151849129</td>\n",
       "      <td>PARMA SELEC GOURMET</td>\n",
       "      <td>$121.94</td>\n",
       "      <td>-6.3%</td>\n",
       "    </tr>\n",
       "    <tr>\n",
       "      <td>3801</td>\n",
       "      <td>OTROS EMBUTIDOS</td>\n",
       "      <td>0750151849165</td>\n",
       "      <td>PARMA DELICHAROLA</td>\n",
       "      <td>$112.79</td>\n",
       "      <td>0.8%</td>\n",
       "    </tr>\n",
       "    <tr>\n",
       "      <td>3802</td>\n",
       "      <td>ALIMENTOS VEGETARIANOS</td>\n",
       "      <td>0750302809003</td>\n",
       "      <td>FRIJOL PINTO MOLID0</td>\n",
       "      <td>$38.00</td>\n",
       "      <td>-4.9%</td>\n",
       "    </tr>\n",
       "    <tr>\n",
       "      <td>3803</td>\n",
       "      <td>ALIMENTOS VEGETARIANOS</td>\n",
       "      <td>0750302809001</td>\n",
       "      <td>FABER FRIJOL ENTERO</td>\n",
       "      <td>$43.50</td>\n",
       "      <td>-6.7%</td>\n",
       "    </tr>\n",
       "  </tbody>\n",
       "</table>\n",
       "<p>3804 rows × 5 columns</p>\n",
       "</div>"
      ],
      "text/plain": [
       "                   Categoría            UPC           Descripción Precio WM   \\\n",
       "0                     DULCES  0789100024836  NESTLE KIT-KAT 4FING    $14.94    \n",
       "1                     DULCES  0750617451226  SNICKERS CHOCOLATE C    $23.50    \n",
       "2                     DULCES  0750617450264      SNICKERS 21.5 GR     $8.53    \n",
       "3                     DULCES  0750617451222  MILKYWAY CHOCO 2PACK    $23.00    \n",
       "4                     DULCES  0750617450265       MILKY WAY 22 GR     $8.61    \n",
       "...                      ...            ...                   ...        ...   \n",
       "3799         OTROS EMBUTIDOS  0750151849135   PARMA JAMON SERRANO    $85.06    \n",
       "3800         OTROS EMBUTIDOS  0750151849129   PARMA SELEC GOURMET   $121.94    \n",
       "3801         OTROS EMBUTIDOS  0750151849165     PARMA DELICHAROLA   $112.79    \n",
       "3802  ALIMENTOS VEGETARIANOS  0750302809003   FRIJOL PINTO MOLID0    $38.00    \n",
       "3803  ALIMENTOS VEGETARIANOS  0750302809001   FABER FRIJOL ENTERO    $43.50    \n",
       "\n",
       "     Último %Dif Reportado  \n",
       "0                    -6.4%  \n",
       "1                    -2.3%  \n",
       "2                    -5.5%  \n",
       "3                    -0.8%  \n",
       "4                    -4.2%  \n",
       "...                    ...  \n",
       "3799                  1.8%  \n",
       "3800                 -6.3%  \n",
       "3801                  0.8%  \n",
       "3802                 -4.9%  \n",
       "3803                 -6.7%  \n",
       "\n",
       "[3804 rows x 5 columns]"
      ]
     },
     "execution_count": 5,
     "metadata": {},
     "output_type": "execute_result"
    }
   ],
   "source": [
    "\n",
    "###########Selección de última semana de precio walmart en archivo ########################\n",
    "df_precio_wm = df[['Categoría','UPC','Descripción','Precio WM ','Último %Dif Reportado']]\n",
    "###########Selección de última semana de precio walmart en archivo ########################\n",
    "\n",
    "df_precio_wm"
   ]
  },
  {
   "cell_type": "code",
   "execution_count": 6,
   "metadata": {},
   "outputs": [
    {
     "data": {
      "text/html": [
       "<div>\n",
       "<style scoped>\n",
       "    .dataframe tbody tr th:only-of-type {\n",
       "        vertical-align: middle;\n",
       "    }\n",
       "\n",
       "    .dataframe tbody tr th {\n",
       "        vertical-align: top;\n",
       "    }\n",
       "\n",
       "    .dataframe thead th {\n",
       "        text-align: right;\n",
       "    }\n",
       "</style>\n",
       "<table border=\"1\" class=\"dataframe\">\n",
       "  <thead>\n",
       "    <tr style=\"text-align: right;\">\n",
       "      <th></th>\n",
       "      <th>Categoría</th>\n",
       "      <th>UPC</th>\n",
       "      <th>Descripción</th>\n",
       "      <th>Precio WM</th>\n",
       "      <th>Último %Dif Reportado</th>\n",
       "    </tr>\n",
       "  </thead>\n",
       "  <tbody>\n",
       "    <tr>\n",
       "      <td>0</td>\n",
       "      <td>DULCES</td>\n",
       "      <td>0789100024836</td>\n",
       "      <td>NESTLE KIT-KAT 4FING</td>\n",
       "      <td>$14.94</td>\n",
       "      <td>-6.4%</td>\n",
       "    </tr>\n",
       "    <tr>\n",
       "      <td>1</td>\n",
       "      <td>DULCES</td>\n",
       "      <td>0750617451226</td>\n",
       "      <td>SNICKERS CHOCOLATE C</td>\n",
       "      <td>$23.50</td>\n",
       "      <td>-2.3%</td>\n",
       "    </tr>\n",
       "    <tr>\n",
       "      <td>2</td>\n",
       "      <td>DULCES</td>\n",
       "      <td>0750617450264</td>\n",
       "      <td>SNICKERS 21.5 GR</td>\n",
       "      <td>$8.53</td>\n",
       "      <td>-5.5%</td>\n",
       "    </tr>\n",
       "    <tr>\n",
       "      <td>3</td>\n",
       "      <td>DULCES</td>\n",
       "      <td>0750617451222</td>\n",
       "      <td>MILKYWAY CHOCO 2PACK</td>\n",
       "      <td>$23.00</td>\n",
       "      <td>-0.8%</td>\n",
       "    </tr>\n",
       "    <tr>\n",
       "      <td>4</td>\n",
       "      <td>DULCES</td>\n",
       "      <td>0750617450265</td>\n",
       "      <td>MILKY WAY 22 GR</td>\n",
       "      <td>$8.61</td>\n",
       "      <td>-4.2%</td>\n",
       "    </tr>\n",
       "    <tr>\n",
       "      <td>...</td>\n",
       "      <td>...</td>\n",
       "      <td>...</td>\n",
       "      <td>...</td>\n",
       "      <td>...</td>\n",
       "      <td>...</td>\n",
       "    </tr>\n",
       "    <tr>\n",
       "      <td>3799</td>\n",
       "      <td>OTROS EMBUTIDOS</td>\n",
       "      <td>0750151849135</td>\n",
       "      <td>PARMA JAMON SERRANO</td>\n",
       "      <td>$85.06</td>\n",
       "      <td>1.8%</td>\n",
       "    </tr>\n",
       "    <tr>\n",
       "      <td>3800</td>\n",
       "      <td>OTROS EMBUTIDOS</td>\n",
       "      <td>0750151849129</td>\n",
       "      <td>PARMA SELEC GOURMET</td>\n",
       "      <td>$121.94</td>\n",
       "      <td>-6.3%</td>\n",
       "    </tr>\n",
       "    <tr>\n",
       "      <td>3801</td>\n",
       "      <td>OTROS EMBUTIDOS</td>\n",
       "      <td>0750151849165</td>\n",
       "      <td>PARMA DELICHAROLA</td>\n",
       "      <td>$112.79</td>\n",
       "      <td>0.8%</td>\n",
       "    </tr>\n",
       "    <tr>\n",
       "      <td>3802</td>\n",
       "      <td>ALIMENTOS VEGETARIANOS</td>\n",
       "      <td>0750302809003</td>\n",
       "      <td>FRIJOL PINTO MOLID0</td>\n",
       "      <td>$38.00</td>\n",
       "      <td>-4.9%</td>\n",
       "    </tr>\n",
       "    <tr>\n",
       "      <td>3803</td>\n",
       "      <td>ALIMENTOS VEGETARIANOS</td>\n",
       "      <td>0750302809001</td>\n",
       "      <td>FABER FRIJOL ENTERO</td>\n",
       "      <td>$43.50</td>\n",
       "      <td>-6.7%</td>\n",
       "    </tr>\n",
       "  </tbody>\n",
       "</table>\n",
       "<p>3804 rows × 5 columns</p>\n",
       "</div>"
      ],
      "text/plain": [
       "                   Categoría            UPC           Descripción Precio WM   \\\n",
       "0                     DULCES  0789100024836  NESTLE KIT-KAT 4FING    $14.94    \n",
       "1                     DULCES  0750617451226  SNICKERS CHOCOLATE C    $23.50    \n",
       "2                     DULCES  0750617450264      SNICKERS 21.5 GR     $8.53    \n",
       "3                     DULCES  0750617451222  MILKYWAY CHOCO 2PACK    $23.00    \n",
       "4                     DULCES  0750617450265       MILKY WAY 22 GR     $8.61    \n",
       "...                      ...            ...                   ...        ...   \n",
       "3799         OTROS EMBUTIDOS  0750151849135   PARMA JAMON SERRANO    $85.06    \n",
       "3800         OTROS EMBUTIDOS  0750151849129   PARMA SELEC GOURMET   $121.94    \n",
       "3801         OTROS EMBUTIDOS  0750151849165     PARMA DELICHAROLA   $112.79    \n",
       "3802  ALIMENTOS VEGETARIANOS  0750302809003   FRIJOL PINTO MOLID0    $38.00    \n",
       "3803  ALIMENTOS VEGETARIANOS  0750302809001   FABER FRIJOL ENTERO    $43.50    \n",
       "\n",
       "     Último %Dif Reportado  \n",
       "0                    -6.4%  \n",
       "1                    -2.3%  \n",
       "2                    -5.5%  \n",
       "3                    -0.8%  \n",
       "4                    -4.2%  \n",
       "...                    ...  \n",
       "3799                  1.8%  \n",
       "3800                 -6.3%  \n",
       "3801                  0.8%  \n",
       "3802                 -4.9%  \n",
       "3803                 -6.7%  \n",
       "\n",
       "[3804 rows x 5 columns]"
      ]
     },
     "execution_count": 6,
     "metadata": {},
     "output_type": "execute_result"
    }
   ],
   "source": [
    "#df_costo_wm_unpivoted = df_precio_wm.melt(id_vars=['Categoría','UPC','Descripción'], var_name='Semana', value_name='Precio')\n",
    "df_costo_wm_unpivoted = df_precio_wm\n",
    "df_costo_wm_unpivoted "
   ]
  },
  {
   "cell_type": "code",
   "execution_count": 7,
   "metadata": {},
   "outputs": [
    {
     "data": {
      "text/plain": [
       "0      -0.064\n",
       "1      -0.023\n",
       "2      -0.055\n",
       "3      -0.008\n",
       "4      -0.042\n",
       "        ...  \n",
       "3799    0.018\n",
       "3800   -0.063\n",
       "3801    0.008\n",
       "3802   -0.049\n",
       "3803   -0.067\n",
       "Name: Último %Dif Reportado, Length: 3804, dtype: float64"
      ]
     },
     "execution_count": 7,
     "metadata": {},
     "output_type": "execute_result"
    }
   ],
   "source": [
    "###prueba para eliminar simbolo de monto\n",
    "\n",
    "### Eliminación de signo monetario en caso de unpivot\n",
    "###df_costo_wm_unpivoted['Precio'].str.replace('$', '')\n",
    "\n",
    "###Eliminación de signo monetario en caso de pase directo\n",
    "df_costo_wm_unpivoted['Precio WM '].str.replace('$', '')\n",
    "df_costo_wm_unpivoted['Último %Dif Reportado'].str.replace('%', '')\n",
    "\n",
    "\n",
    "pd.to_numeric(df_costo_wm_unpivoted['Último %Dif Reportado'].str.replace(\"%\",\"\"), errors='coerce')/100\n",
    "###df_costo_wm_unpivoted.Precio.iloc[1].replace(\"$\",\"\")\n",
    "#df_costo_wm_unpivoted.head()"
   ]
  },
  {
   "cell_type": "markdown",
   "metadata": {},
   "source": [
    "#### Limpieza de datos"
   ]
  },
  {
   "cell_type": "code",
   "execution_count": 8,
   "metadata": {},
   "outputs": [
    {
     "name": "stderr",
     "output_type": "stream",
     "text": [
      "D:\\Program\\DS\\lib\\site-packages\\ipykernel_launcher.py:6: SettingWithCopyWarning: \n",
      "A value is trying to be set on a copy of a slice from a DataFrame.\n",
      "Try using .loc[row_indexer,col_indexer] = value instead\n",
      "\n",
      "See the caveats in the documentation: http://pandas.pydata.org/pandas-docs/stable/user_guide/indexing.html#returning-a-view-versus-a-copy\n",
      "  \n",
      "D:\\Program\\DS\\lib\\site-packages\\ipykernel_launcher.py:9: SettingWithCopyWarning: \n",
      "A value is trying to be set on a copy of a slice from a DataFrame.\n",
      "Try using .loc[row_indexer,col_indexer] = value instead\n",
      "\n",
      "See the caveats in the documentation: http://pandas.pydata.org/pandas-docs/stable/user_guide/indexing.html#returning-a-view-versus-a-copy\n",
      "  if __name__ == '__main__':\n"
     ]
    },
    {
     "data": {
      "text/html": [
       "<div>\n",
       "<style scoped>\n",
       "    .dataframe tbody tr th:only-of-type {\n",
       "        vertical-align: middle;\n",
       "    }\n",
       "\n",
       "    .dataframe tbody tr th {\n",
       "        vertical-align: top;\n",
       "    }\n",
       "\n",
       "    .dataframe thead th {\n",
       "        text-align: right;\n",
       "    }\n",
       "</style>\n",
       "<table border=\"1\" class=\"dataframe\">\n",
       "  <thead>\n",
       "    <tr style=\"text-align: right;\">\n",
       "      <th></th>\n",
       "      <th>Categoría</th>\n",
       "      <th>UPC</th>\n",
       "      <th>Descripción</th>\n",
       "      <th>Precio WM</th>\n",
       "      <th>Último %Dif Reportado</th>\n",
       "      <th>imp_Precio</th>\n",
       "      <th>pct_ult_dif</th>\n",
       "    </tr>\n",
       "  </thead>\n",
       "  <tbody>\n",
       "    <tr>\n",
       "      <td>0</td>\n",
       "      <td>DULCES</td>\n",
       "      <td>0789100024836</td>\n",
       "      <td>NESTLE KIT-KAT 4FING</td>\n",
       "      <td>$14.94</td>\n",
       "      <td>-6.4%</td>\n",
       "      <td>14.94</td>\n",
       "      <td>-0.064</td>\n",
       "    </tr>\n",
       "    <tr>\n",
       "      <td>1</td>\n",
       "      <td>DULCES</td>\n",
       "      <td>0750617451226</td>\n",
       "      <td>SNICKERS CHOCOLATE C</td>\n",
       "      <td>$23.50</td>\n",
       "      <td>-2.3%</td>\n",
       "      <td>23.50</td>\n",
       "      <td>-0.023</td>\n",
       "    </tr>\n",
       "    <tr>\n",
       "      <td>2</td>\n",
       "      <td>DULCES</td>\n",
       "      <td>0750617450264</td>\n",
       "      <td>SNICKERS 21.5 GR</td>\n",
       "      <td>$8.53</td>\n",
       "      <td>-5.5%</td>\n",
       "      <td>8.53</td>\n",
       "      <td>-0.055</td>\n",
       "    </tr>\n",
       "    <tr>\n",
       "      <td>3</td>\n",
       "      <td>DULCES</td>\n",
       "      <td>0750617451222</td>\n",
       "      <td>MILKYWAY CHOCO 2PACK</td>\n",
       "      <td>$23.00</td>\n",
       "      <td>-0.8%</td>\n",
       "      <td>23.00</td>\n",
       "      <td>-0.008</td>\n",
       "    </tr>\n",
       "    <tr>\n",
       "      <td>4</td>\n",
       "      <td>DULCES</td>\n",
       "      <td>0750617450265</td>\n",
       "      <td>MILKY WAY 22 GR</td>\n",
       "      <td>$8.61</td>\n",
       "      <td>-4.2%</td>\n",
       "      <td>8.61</td>\n",
       "      <td>-0.042</td>\n",
       "    </tr>\n",
       "    <tr>\n",
       "      <td>...</td>\n",
       "      <td>...</td>\n",
       "      <td>...</td>\n",
       "      <td>...</td>\n",
       "      <td>...</td>\n",
       "      <td>...</td>\n",
       "      <td>...</td>\n",
       "      <td>...</td>\n",
       "    </tr>\n",
       "    <tr>\n",
       "      <td>3799</td>\n",
       "      <td>OTROS EMBUTIDOS</td>\n",
       "      <td>0750151849135</td>\n",
       "      <td>PARMA JAMON SERRANO</td>\n",
       "      <td>$85.06</td>\n",
       "      <td>1.8%</td>\n",
       "      <td>85.06</td>\n",
       "      <td>0.018</td>\n",
       "    </tr>\n",
       "    <tr>\n",
       "      <td>3800</td>\n",
       "      <td>OTROS EMBUTIDOS</td>\n",
       "      <td>0750151849129</td>\n",
       "      <td>PARMA SELEC GOURMET</td>\n",
       "      <td>$121.94</td>\n",
       "      <td>-6.3%</td>\n",
       "      <td>121.94</td>\n",
       "      <td>-0.063</td>\n",
       "    </tr>\n",
       "    <tr>\n",
       "      <td>3801</td>\n",
       "      <td>OTROS EMBUTIDOS</td>\n",
       "      <td>0750151849165</td>\n",
       "      <td>PARMA DELICHAROLA</td>\n",
       "      <td>$112.79</td>\n",
       "      <td>0.8%</td>\n",
       "      <td>112.79</td>\n",
       "      <td>0.008</td>\n",
       "    </tr>\n",
       "    <tr>\n",
       "      <td>3802</td>\n",
       "      <td>ALIMENTOS VEGETARIANOS</td>\n",
       "      <td>0750302809003</td>\n",
       "      <td>FRIJOL PINTO MOLID0</td>\n",
       "      <td>$38.00</td>\n",
       "      <td>-4.9%</td>\n",
       "      <td>38.00</td>\n",
       "      <td>-0.049</td>\n",
       "    </tr>\n",
       "    <tr>\n",
       "      <td>3803</td>\n",
       "      <td>ALIMENTOS VEGETARIANOS</td>\n",
       "      <td>0750302809001</td>\n",
       "      <td>FABER FRIJOL ENTERO</td>\n",
       "      <td>$43.50</td>\n",
       "      <td>-6.7%</td>\n",
       "      <td>43.50</td>\n",
       "      <td>-0.067</td>\n",
       "    </tr>\n",
       "  </tbody>\n",
       "</table>\n",
       "<p>3804 rows × 7 columns</p>\n",
       "</div>"
      ],
      "text/plain": [
       "                   Categoría            UPC           Descripción Precio WM   \\\n",
       "0                     DULCES  0789100024836  NESTLE KIT-KAT 4FING    $14.94    \n",
       "1                     DULCES  0750617451226  SNICKERS CHOCOLATE C    $23.50    \n",
       "2                     DULCES  0750617450264      SNICKERS 21.5 GR     $8.53    \n",
       "3                     DULCES  0750617451222  MILKYWAY CHOCO 2PACK    $23.00    \n",
       "4                     DULCES  0750617450265       MILKY WAY 22 GR     $8.61    \n",
       "...                      ...            ...                   ...        ...   \n",
       "3799         OTROS EMBUTIDOS  0750151849135   PARMA JAMON SERRANO    $85.06    \n",
       "3800         OTROS EMBUTIDOS  0750151849129   PARMA SELEC GOURMET   $121.94    \n",
       "3801         OTROS EMBUTIDOS  0750151849165     PARMA DELICHAROLA   $112.79    \n",
       "3802  ALIMENTOS VEGETARIANOS  0750302809003   FRIJOL PINTO MOLID0    $38.00    \n",
       "3803  ALIMENTOS VEGETARIANOS  0750302809001   FABER FRIJOL ENTERO    $43.50    \n",
       "\n",
       "     Último %Dif Reportado  imp_Precio  pct_ult_dif  \n",
       "0                    -6.4%       14.94       -0.064  \n",
       "1                    -2.3%       23.50       -0.023  \n",
       "2                    -5.5%        8.53       -0.055  \n",
       "3                    -0.8%       23.00       -0.008  \n",
       "4                    -4.2%        8.61       -0.042  \n",
       "...                    ...         ...          ...  \n",
       "3799                  1.8%       85.06        0.018  \n",
       "3800                 -6.3%      121.94       -0.063  \n",
       "3801                  0.8%      112.79        0.008  \n",
       "3802                 -4.9%       38.00       -0.049  \n",
       "3803                 -6.7%       43.50       -0.067  \n",
       "\n",
       "[3804 rows x 7 columns]"
      ]
     },
     "execution_count": 8,
     "metadata": {},
     "output_type": "execute_result"
    }
   ],
   "source": [
    "#df_costo_wm_unpivoted['imp_Precio'] = \n",
    "### Eliminación de signo monetario en caso de unpivot\n",
    "###df_costo_wm_unpivoted['imp_Precio'] = pd.to_numeric(df_costo_wm_unpivoted['Precio'].str.replace(\"$\",\"\"), errors='coerce')\n",
    "\n",
    "###Eliminación de signo monetario en caso de pase directo\n",
    "df_costo_wm_unpivoted['imp_Precio'] = pd.to_numeric(df_costo_wm_unpivoted['Precio WM '].str.replace(\"$\",\"\"), errors='coerce')\n",
    "\n",
    "# Eliminación de simbolo de porcentaje y división entre 100\n",
    "df_costo_wm_unpivoted['pct_ult_dif'] = pd.to_numeric(df_costo_wm_unpivoted['Último %Dif Reportado'].str.replace(\"%\",\"\"), errors='coerce')/100\n",
    "df_costo_wm_unpivoted  "
   ]
  },
  {
   "cell_type": "code",
   "execution_count": 9,
   "metadata": {},
   "outputs": [],
   "source": [
    "### separación de columnas fecha y origen\n",
    "#if df_costo_wm_unpivoted['Semana'].iloc[0] == 'Precio WM 201901' :\n",
    "    #print(1)\n",
    "#else:\n",
    " #   print(0)\n",
    "\n",
    "    \n",
    "#### Caso unpivot    \n",
    "######place_str = df_costo_wm_unpivoted['Semana'].iloc[0].find(' ',7)\n",
    "######df_costo_wm_unpivoted['Semana'].iloc[0][place_str:]\n",
    "#### Caso unpivot\n",
    "\n",
    "#df_costo_wm_unpivoted['Semana'].iloc[0].count(' ')"
   ]
  },
  {
   "cell_type": "code",
   "execution_count": 10,
   "metadata": {},
   "outputs": [
    {
     "data": {
      "text/html": [
       "<div>\n",
       "<style scoped>\n",
       "    .dataframe tbody tr th:only-of-type {\n",
       "        vertical-align: middle;\n",
       "    }\n",
       "\n",
       "    .dataframe tbody tr th {\n",
       "        vertical-align: top;\n",
       "    }\n",
       "\n",
       "    .dataframe thead th {\n",
       "        text-align: right;\n",
       "    }\n",
       "</style>\n",
       "<table border=\"1\" class=\"dataframe\">\n",
       "  <thead>\n",
       "    <tr style=\"text-align: right;\">\n",
       "      <th></th>\n",
       "      <th>imp_Precio</th>\n",
       "      <th>pct_ult_dif</th>\n",
       "    </tr>\n",
       "  </thead>\n",
       "  <tbody>\n",
       "    <tr>\n",
       "      <td>count</td>\n",
       "      <td>3804.000000</td>\n",
       "      <td>3804.000000</td>\n",
       "    </tr>\n",
       "    <tr>\n",
       "      <td>mean</td>\n",
       "      <td>38.001493</td>\n",
       "      <td>0.025364</td>\n",
       "    </tr>\n",
       "    <tr>\n",
       "      <td>std</td>\n",
       "      <td>37.281083</td>\n",
       "      <td>0.087784</td>\n",
       "    </tr>\n",
       "    <tr>\n",
       "      <td>min</td>\n",
       "      <td>1.860000</td>\n",
       "      <td>-0.649000</td>\n",
       "    </tr>\n",
       "    <tr>\n",
       "      <td>25%</td>\n",
       "      <td>12.990000</td>\n",
       "      <td>-0.018000</td>\n",
       "    </tr>\n",
       "    <tr>\n",
       "      <td>50%</td>\n",
       "      <td>24.915000</td>\n",
       "      <td>0.019000</td>\n",
       "    </tr>\n",
       "    <tr>\n",
       "      <td>75%</td>\n",
       "      <td>53.955000</td>\n",
       "      <td>0.066250</td>\n",
       "    </tr>\n",
       "    <tr>\n",
       "      <td>max</td>\n",
       "      <td>477.000000</td>\n",
       "      <td>0.882000</td>\n",
       "    </tr>\n",
       "  </tbody>\n",
       "</table>\n",
       "</div>"
      ],
      "text/plain": [
       "        imp_Precio  pct_ult_dif\n",
       "count  3804.000000  3804.000000\n",
       "mean     38.001493     0.025364\n",
       "std      37.281083     0.087784\n",
       "min       1.860000    -0.649000\n",
       "25%      12.990000    -0.018000\n",
       "50%      24.915000     0.019000\n",
       "75%      53.955000     0.066250\n",
       "max     477.000000     0.882000"
      ]
     },
     "execution_count": 10,
     "metadata": {},
     "output_type": "execute_result"
    }
   ],
   "source": [
    "df_costo_wm_unpivoted.describe()"
   ]
  },
  {
   "cell_type": "code",
   "execution_count": 11,
   "metadata": {},
   "outputs": [
    {
     "name": "stdout",
     "output_type": "stream",
     "text": [
      "Renglones     :  3804\n",
      "Columnas  :  7\n",
      "\n",
      "Características : \n",
      " ['Categoría', 'UPC', 'Descripción', 'Precio WM ', 'Último %Dif Reportado', 'imp_Precio', 'pct_ult_dif']\n",
      "\n",
      "Valores faltantes :   0\n"
     ]
    }
   ],
   "source": [
    "print (\"Renglones     : \" ,df_costo_wm_unpivoted.shape[0])\n",
    "print (\"Columnas  : \" ,df_costo_wm_unpivoted.shape[1])\n",
    "print (\"\\nCaracterísticas : \\n\" ,df_costo_wm_unpivoted.columns.tolist())\n",
    "print (\"\\nValores faltantes :  \", df_costo_wm_unpivoted.isnull().sum().values.sum())"
   ]
  },
  {
   "cell_type": "markdown",
   "metadata": {},
   "source": [
    "### Exploración de información"
   ]
  },
  {
   "cell_type": "code",
   "execution_count": 12,
   "metadata": {},
   "outputs": [],
   "source": [
    "import seaborn as sns\n",
    "import matplotlib.pyplot as plt\n",
    "sns.set(style=\"ticks\", color_codes=True)\n"
   ]
  },
  {
   "cell_type": "code",
   "execution_count": 13,
   "metadata": {},
   "outputs": [
    {
     "data": {
      "text/plain": [
       "<matplotlib.axes._subplots.AxesSubplot at 0x1d6f3cff8c8>"
      ]
     },
     "execution_count": 13,
     "metadata": {},
     "output_type": "execute_result"
    },
    {
     "data": {
      "image/png": "[encoded data removed]",
      "text/plain": [
       "<Figure size 432x288 with 1 Axes>"
      ]
     },
     "metadata": {
      "needs_background": "light"
     },
     "output_type": "display_data"
    }
   ],
   "source": [
    "#g = sns.pairplot(df_costo_wm_unpivoted)\n",
    "sns.barplot(x=\"UPC\", y=\"imp_Precio\", data=df_costo_wm_unpivoted[df_costo_wm_unpivoted['Categoría']=='DULCES'])\n",
    "\n"
   ]
  },
  {
   "cell_type": "code",
   "execution_count": 14,
   "metadata": {},
   "outputs": [
    {
     "data": {
      "text/plain": [
       "<matplotlib.axes._subplots.AxesSubplot at 0x1d6f4d605c8>"
      ]
     },
     "execution_count": 14,
     "metadata": {},
     "output_type": "execute_result"
    },
    {
     "data": {
      "image/png": "[encoded data removed]",
      "text/plain": [
       "<Figure size 432x288 with 1 Axes>"
      ]
     },
     "metadata": {
      "needs_background": "light"
     },
     "output_type": "display_data"
    }
   ],
   "source": [
    "sns.barplot(x=\"Categoría\", y=\"imp_Precio\",data=df_costo_wm_unpivoted)"
   ]
  },
  {
   "cell_type": "code",
   "execution_count": 15,
   "metadata": {},
   "outputs": [
    {
     "data": {
      "image/png": "[encoded data removed]",
      "text/plain": [
       "<Figure size 1008x1008 with 6 Axes>"
      ]
     },
     "metadata": {
      "needs_background": "light"
     },
     "output_type": "display_data"
    }
   ],
   "source": [
    "\n",
    "#g = sns.pairplot(df_costo_wm_unpivoted, height=7, vars=[\"Categoría\", \"Semana\"])\n",
    "g = sns.pairplot(df_costo_wm_unpivoted, height=7, vars=[\"imp_Precio\", \"pct_ult_dif\"])\n",
    " \n",
    "#sns.scatterplot(x=\"imp_Precio\", y=\"UPC\",hue=\"Categoría\", data=df_costo_wm_unpivoted)\n",
    "\n",
    "###sns.scatterplot(x=\"imp_Precio\", y=\"UPC\",hue=\"Categoría\", data=df_costo_wm_unpivoted)\n",
    "#sns.scatterplot(x=\"imp_Precio\", y=\"UPC\",hue=\"Semana\", data=df_costo_wm_unpivoted[df_costo_wm_unpivoted['UPC']=='0750151849165'])\n",
    "#df_costo_wm_unpivoted[df_costo_wm_unpivoted['UPC']=='0750151849165']\n",
    "#sns.barplot(x=\"Semana\", y=\"imp_Precio\", data=df_costo_wm_unpivoted[df_costo_wm_unpivoted['UPC']=='0750151849165'])\n",
    "#sns.pairplot(df_costo_wm_unpivoted[df_costo_wm_unpivoted['Categoría']=='DULCES'])\n",
    "#, height=3, vars=['Categoría', 'Semana'])"
   ]
  },
  {
   "cell_type": "code",
   "execution_count": 16,
   "metadata": {},
   "outputs": [
    {
     "data": {
      "text/html": [
       "<div>\n",
       "<style scoped>\n",
       "    .dataframe tbody tr th:only-of-type {\n",
       "        vertical-align: middle;\n",
       "    }\n",
       "\n",
       "    .dataframe tbody tr th {\n",
       "        vertical-align: top;\n",
       "    }\n",
       "\n",
       "    .dataframe thead th {\n",
       "        text-align: right;\n",
       "    }\n",
       "</style>\n",
       "<table border=\"1\" class=\"dataframe\">\n",
       "  <thead>\n",
       "    <tr style=\"text-align: right;\">\n",
       "      <th></th>\n",
       "      <th>num_UPCxCat</th>\n",
       "      <th>imp_PrecioXCat</th>\n",
       "    </tr>\n",
       "    <tr>\n",
       "      <th>Categoría</th>\n",
       "      <th></th>\n",
       "      <th></th>\n",
       "    </tr>\n",
       "  </thead>\n",
       "  <tbody>\n",
       "    <tr>\n",
       "      <td>AGUAS QUINAS Y MINERALIZADAS</td>\n",
       "      <td>0841164001004</td>\n",
       "      <td>4772.93</td>\n",
       "    </tr>\n",
       "    <tr>\n",
       "      <td>AGUAS SABORIZADAS</td>\n",
       "      <td>0750619250681</td>\n",
       "      <td>4573.90</td>\n",
       "    </tr>\n",
       "    <tr>\n",
       "      <td>ALIMENTOS VEGETARIANOS</td>\n",
       "      <td>0750302809003</td>\n",
       "      <td>275.71</td>\n",
       "    </tr>\n",
       "    <tr>\n",
       "      <td>BEBIDAS REFRIGERADAS</td>\n",
       "      <td>0750644310093</td>\n",
       "      <td>3890.31</td>\n",
       "    </tr>\n",
       "    <tr>\n",
       "      <td>COOLERS Y REFRESCANTES</td>\n",
       "      <td>0750302441665</td>\n",
       "      <td>2658.79</td>\n",
       "    </tr>\n",
       "    <tr>\n",
       "      <td>CREMAS</td>\n",
       "      <td>0750301942182</td>\n",
       "      <td>4443.73</td>\n",
       "    </tr>\n",
       "    <tr>\n",
       "      <td>DULCES</td>\n",
       "      <td>0841003194874</td>\n",
       "      <td>8205.34</td>\n",
       "    </tr>\n",
       "    <tr>\n",
       "      <td>HELADOS</td>\n",
       "      <td>0750639020081</td>\n",
       "      <td>16725.04</td>\n",
       "    </tr>\n",
       "    <tr>\n",
       "      <td>ISOTONICOS</td>\n",
       "      <td>0750302036209</td>\n",
       "      <td>2445.89</td>\n",
       "    </tr>\n",
       "    <tr>\n",
       "      <td>JAMON</td>\n",
       "      <td>0750302581310</td>\n",
       "      <td>7549.74</td>\n",
       "    </tr>\n",
       "    <tr>\n",
       "      <td>MARGARINAS Y MANTEQUILLAS</td>\n",
       "      <td>0871920045005</td>\n",
       "      <td>5192.15</td>\n",
       "    </tr>\n",
       "    <tr>\n",
       "      <td>MERCANCIAS GENERALES</td>\n",
       "      <td>0007033063613</td>\n",
       "      <td>89.25</td>\n",
       "    </tr>\n",
       "    <tr>\n",
       "      <td>OTROS EMBUTIDOS</td>\n",
       "      <td>0842535898897</td>\n",
       "      <td>12077.99</td>\n",
       "    </tr>\n",
       "    <tr>\n",
       "      <td>QUESO PETTIT</td>\n",
       "      <td>0750103239981</td>\n",
       "      <td>645.90</td>\n",
       "    </tr>\n",
       "    <tr>\n",
       "      <td>QUESOS FRESCOS</td>\n",
       "      <td>0841228900388</td>\n",
       "      <td>10362.29</td>\n",
       "    </tr>\n",
       "    <tr>\n",
       "      <td>QUESOS MADUROS</td>\n",
       "      <td>0871091210367</td>\n",
       "      <td>8539.55</td>\n",
       "    </tr>\n",
       "    <tr>\n",
       "      <td>QUESOS SEMIMADUROS</td>\n",
       "      <td>0841337601734</td>\n",
       "      <td>23618.39</td>\n",
       "    </tr>\n",
       "    <tr>\n",
       "      <td>REFRESCOS EN POLVO</td>\n",
       "      <td>0780280073553</td>\n",
       "      <td>755.07</td>\n",
       "    </tr>\n",
       "    <tr>\n",
       "      <td>SALCHICHA</td>\n",
       "      <td>0750302581305</td>\n",
       "      <td>12097.52</td>\n",
       "    </tr>\n",
       "    <tr>\n",
       "      <td>SALUD Y BELLEZA</td>\n",
       "      <td>0789105103787</td>\n",
       "      <td>4512.10</td>\n",
       "    </tr>\n",
       "    <tr>\n",
       "      <td>VERDURAS CONGELADAS</td>\n",
       "      <td>0750302380725</td>\n",
       "      <td>3526.18</td>\n",
       "    </tr>\n",
       "    <tr>\n",
       "      <td>YOGHURT BATIDO</td>\n",
       "      <td>0750644310216</td>\n",
       "      <td>7599.91</td>\n",
       "    </tr>\n",
       "  </tbody>\n",
       "</table>\n",
       "</div>"
      ],
      "text/plain": [
       "                                num_UPCxCat  imp_PrecioXCat\n",
       "Categoría                                                  \n",
       "AGUAS QUINAS Y MINERALIZADAS  0841164001004         4772.93\n",
       "AGUAS SABORIZADAS             0750619250681         4573.90\n",
       "ALIMENTOS VEGETARIANOS        0750302809003          275.71\n",
       "BEBIDAS REFRIGERADAS          0750644310093         3890.31\n",
       "COOLERS Y REFRESCANTES        0750302441665         2658.79\n",
       "CREMAS                        0750301942182         4443.73\n",
       "DULCES                        0841003194874         8205.34\n",
       "HELADOS                       0750639020081        16725.04\n",
       "ISOTONICOS                    0750302036209         2445.89\n",
       "JAMON                         0750302581310         7549.74\n",
       "MARGARINAS Y MANTEQUILLAS     0871920045005         5192.15\n",
       "MERCANCIAS GENERALES          0007033063613           89.25\n",
       "OTROS EMBUTIDOS               0842535898897        12077.99\n",
       "QUESO PETTIT                  0750103239981          645.90\n",
       "QUESOS FRESCOS                0841228900388        10362.29\n",
       "QUESOS MADUROS                0871091210367         8539.55\n",
       "QUESOS SEMIMADUROS            0841337601734        23618.39\n",
       "REFRESCOS EN POLVO            0780280073553          755.07\n",
       "SALCHICHA                     0750302581305        12097.52\n",
       "SALUD Y BELLEZA               0789105103787         4512.10\n",
       "VERDURAS CONGELADAS           0750302380725         3526.18\n",
       "YOGHURT BATIDO                0750644310216         7599.91"
      ]
     },
     "execution_count": 16,
     "metadata": {},
     "output_type": "execute_result"
    }
   ],
   "source": [
    "df_costo_wm_unpivoted[df_costo_wm_unpivoted['Categoría']=='DULCES']['UPC'].count()\n",
    "df_costo_wm_unpivoted[df_costo_wm_unpivoted['Categoría']=='DULCES'].groupby('Categoría').count()\n",
    "df_costo_wm_unpivoted[['Categoría','UPC']].groupby('Categoría').count() ## regresa conteo count(*)\n",
    "df_costo_wm_unpivoted[['Categoría','UPC','imp_Precio']].groupby('Categoría').agg(\n",
    "num_UPCxCat = pd.NamedAgg(column='UPC', aggfunc=max),\n",
    "imp_PrecioXCat = pd.NamedAgg(column='imp_Precio', aggfunc=sum)\n",
    "\n",
    ")\n",
    "\n",
    "\n",
    "#df_costo_wm_unpivoted.count()"
   ]
  },
  {
   "cell_type": "code",
   "execution_count": 17,
   "metadata": {},
   "outputs": [
    {
     "data": {
      "text/html": [
       "<div>\n",
       "<style scoped>\n",
       "    .dataframe tbody tr th:only-of-type {\n",
       "        vertical-align: middle;\n",
       "    }\n",
       "\n",
       "    .dataframe tbody tr th {\n",
       "        vertical-align: top;\n",
       "    }\n",
       "\n",
       "    .dataframe thead th {\n",
       "        text-align: right;\n",
       "    }\n",
       "</style>\n",
       "<table border=\"1\" class=\"dataframe\">\n",
       "  <thead>\n",
       "    <tr style=\"text-align: right;\">\n",
       "      <th></th>\n",
       "      <th>Categoría</th>\n",
       "      <th>UPC</th>\n",
       "      <th>Descripción</th>\n",
       "      <th>Precio WM</th>\n",
       "      <th>Último %Dif Reportado</th>\n",
       "      <th>imp_Precio</th>\n",
       "      <th>pct_ult_dif</th>\n",
       "    </tr>\n",
       "  </thead>\n",
       "  <tbody>\n",
       "    <tr>\n",
       "      <td>0</td>\n",
       "      <td>DULCES</td>\n",
       "      <td>0789100024836</td>\n",
       "      <td>NESTLE KIT-KAT 4FING</td>\n",
       "      <td>$14.94</td>\n",
       "      <td>-6.4%</td>\n",
       "      <td>14.94</td>\n",
       "      <td>-0.064</td>\n",
       "    </tr>\n",
       "    <tr>\n",
       "      <td>1</td>\n",
       "      <td>DULCES</td>\n",
       "      <td>0750617451226</td>\n",
       "      <td>SNICKERS CHOCOLATE C</td>\n",
       "      <td>$23.50</td>\n",
       "      <td>-2.3%</td>\n",
       "      <td>23.50</td>\n",
       "      <td>-0.023</td>\n",
       "    </tr>\n",
       "    <tr>\n",
       "      <td>2</td>\n",
       "      <td>DULCES</td>\n",
       "      <td>0750617450264</td>\n",
       "      <td>SNICKERS 21.5 GR</td>\n",
       "      <td>$8.53</td>\n",
       "      <td>-5.5%</td>\n",
       "      <td>8.53</td>\n",
       "      <td>-0.055</td>\n",
       "    </tr>\n",
       "    <tr>\n",
       "      <td>3</td>\n",
       "      <td>DULCES</td>\n",
       "      <td>0750617451222</td>\n",
       "      <td>MILKYWAY CHOCO 2PACK</td>\n",
       "      <td>$23.00</td>\n",
       "      <td>-0.8%</td>\n",
       "      <td>23.00</td>\n",
       "      <td>-0.008</td>\n",
       "    </tr>\n",
       "    <tr>\n",
       "      <td>4</td>\n",
       "      <td>DULCES</td>\n",
       "      <td>0750617450265</td>\n",
       "      <td>MILKY WAY 22 GR</td>\n",
       "      <td>$8.61</td>\n",
       "      <td>-4.2%</td>\n",
       "      <td>8.61</td>\n",
       "      <td>-0.042</td>\n",
       "    </tr>\n",
       "    <tr>\n",
       "      <td>...</td>\n",
       "      <td>...</td>\n",
       "      <td>...</td>\n",
       "      <td>...</td>\n",
       "      <td>...</td>\n",
       "      <td>...</td>\n",
       "      <td>...</td>\n",
       "      <td>...</td>\n",
       "    </tr>\n",
       "    <tr>\n",
       "      <td>2531</td>\n",
       "      <td>DULCES</td>\n",
       "      <td>0750616120995</td>\n",
       "      <td>GREZON HUEVO PEPPA</td>\n",
       "      <td>$22.50</td>\n",
       "      <td>-30.5%</td>\n",
       "      <td>22.50</td>\n",
       "      <td>-0.305</td>\n",
       "    </tr>\n",
       "    <tr>\n",
       "      <td>2532</td>\n",
       "      <td>DULCES</td>\n",
       "      <td>0750616121743</td>\n",
       "      <td>GREZON HUEVO JACKIE</td>\n",
       "      <td>$22.50</td>\n",
       "      <td>-27.8%</td>\n",
       "      <td>22.50</td>\n",
       "      <td>-0.278</td>\n",
       "    </tr>\n",
       "    <tr>\n",
       "      <td>2533</td>\n",
       "      <td>DULCES</td>\n",
       "      <td>0762230098658</td>\n",
       "      <td>HALLS MINI EXTRA STR</td>\n",
       "      <td>$8.99</td>\n",
       "      <td>-0.1%</td>\n",
       "      <td>8.99</td>\n",
       "      <td>-0.001</td>\n",
       "    </tr>\n",
       "    <tr>\n",
       "      <td>2534</td>\n",
       "      <td>DULCES</td>\n",
       "      <td>0762230098650</td>\n",
       "      <td>HALLS MINI MENTA</td>\n",
       "      <td>$8.73</td>\n",
       "      <td>-3.1%</td>\n",
       "      <td>8.73</td>\n",
       "      <td>-0.031</td>\n",
       "    </tr>\n",
       "    <tr>\n",
       "      <td>2535</td>\n",
       "      <td>DULCES</td>\n",
       "      <td>0000007614551</td>\n",
       "      <td>TOBLERONE CHOCOLATE</td>\n",
       "      <td>$30.00</td>\n",
       "      <td>48.3%</td>\n",
       "      <td>30.00</td>\n",
       "      <td>0.483</td>\n",
       "    </tr>\n",
       "  </tbody>\n",
       "</table>\n",
       "<p>513 rows × 7 columns</p>\n",
       "</div>"
      ],
      "text/plain": [
       "     Categoría            UPC           Descripción Precio WM   \\\n",
       "0       DULCES  0789100024836  NESTLE KIT-KAT 4FING    $14.94    \n",
       "1       DULCES  0750617451226  SNICKERS CHOCOLATE C    $23.50    \n",
       "2       DULCES  0750617450264      SNICKERS 21.5 GR     $8.53    \n",
       "3       DULCES  0750617451222  MILKYWAY CHOCO 2PACK    $23.00    \n",
       "4       DULCES  0750617450265       MILKY WAY 22 GR     $8.61    \n",
       "...        ...            ...                   ...        ...   \n",
       "2531    DULCES  0750616120995    GREZON HUEVO PEPPA    $22.50    \n",
       "2532    DULCES  0750616121743   GREZON HUEVO JACKIE    $22.50    \n",
       "2533    DULCES  0762230098658  HALLS MINI EXTRA STR     $8.99    \n",
       "2534    DULCES  0762230098650      HALLS MINI MENTA     $8.73    \n",
       "2535    DULCES  0000007614551   TOBLERONE CHOCOLATE    $30.00    \n",
       "\n",
       "     Último %Dif Reportado  imp_Precio  pct_ult_dif  \n",
       "0                    -6.4%       14.94       -0.064  \n",
       "1                    -2.3%       23.50       -0.023  \n",
       "2                    -5.5%        8.53       -0.055  \n",
       "3                    -0.8%       23.00       -0.008  \n",
       "4                    -4.2%        8.61       -0.042  \n",
       "...                    ...         ...          ...  \n",
       "2531                -30.5%       22.50       -0.305  \n",
       "2532                -27.8%       22.50       -0.278  \n",
       "2533                 -0.1%        8.99       -0.001  \n",
       "2534                 -3.1%        8.73       -0.031  \n",
       "2535                 48.3%       30.00        0.483  \n",
       "\n",
       "[513 rows x 7 columns]"
      ]
     },
     "execution_count": 17,
     "metadata": {},
     "output_type": "execute_result"
    }
   ],
   "source": [
    "df_costo_wm_unpivoted[df_costo_wm_unpivoted['Categoría']=='DULCES']\n",
    "#df_costo_wm_unpivoted_sub = "
   ]
  },
  {
   "cell_type": "markdown",
   "metadata": {},
   "source": [
    "#### Gráficas generales precio walmart"
   ]
  },
  {
   "cell_type": "code",
   "execution_count": 18,
   "metadata": {},
   "outputs": [
    {
     "data": {
      "text/plain": [
       "<matplotlib.axes._subplots.AxesSubplot at 0x1d6f5515508>"
      ]
     },
     "execution_count": 18,
     "metadata": {},
     "output_type": "execute_result"
    },
    {
     "data": {
      "image/png": "[encoded data removed]",
      "text/plain": [
       "<Figure size 432x288 with 1 Axes>"
      ]
     },
     "metadata": {
      "needs_background": "light"
     },
     "output_type": "display_data"
    }
   ],
   "source": [
    "sns.distplot(df_costo_wm_unpivoted['imp_Precio'])"
   ]
  },
  {
   "cell_type": "code",
   "execution_count": 19,
   "metadata": {},
   "outputs": [
    {
     "data": {
      "text/html": [
       "<div>\n",
       "<style scoped>\n",
       "    .dataframe tbody tr th:only-of-type {\n",
       "        vertical-align: middle;\n",
       "    }\n",
       "\n",
       "    .dataframe tbody tr th {\n",
       "        vertical-align: top;\n",
       "    }\n",
       "\n",
       "    .dataframe thead th {\n",
       "        text-align: right;\n",
       "    }\n",
       "</style>\n",
       "<table border=\"1\" class=\"dataframe\">\n",
       "  <thead>\n",
       "    <tr style=\"text-align: right;\">\n",
       "      <th></th>\n",
       "      <th>Categoría</th>\n",
       "      <th>UPC</th>\n",
       "      <th>Descripción</th>\n",
       "      <th>Precio WM</th>\n",
       "      <th>Último %Dif Reportado</th>\n",
       "      <th>imp_Precio</th>\n",
       "      <th>pct_ult_dif</th>\n",
       "    </tr>\n",
       "  </thead>\n",
       "  <tbody>\n",
       "    <tr>\n",
       "      <td>0</td>\n",
       "      <td>DULCES</td>\n",
       "      <td>0789100024836</td>\n",
       "      <td>NESTLE KIT-KAT 4FING</td>\n",
       "      <td>$14.94</td>\n",
       "      <td>-6.4%</td>\n",
       "      <td>14.94</td>\n",
       "      <td>-0.064</td>\n",
       "    </tr>\n",
       "    <tr>\n",
       "      <td>1</td>\n",
       "      <td>DULCES</td>\n",
       "      <td>0750617451226</td>\n",
       "      <td>SNICKERS CHOCOLATE C</td>\n",
       "      <td>$23.50</td>\n",
       "      <td>-2.3%</td>\n",
       "      <td>23.50</td>\n",
       "      <td>-0.023</td>\n",
       "    </tr>\n",
       "    <tr>\n",
       "      <td>2</td>\n",
       "      <td>DULCES</td>\n",
       "      <td>0750617450264</td>\n",
       "      <td>SNICKERS 21.5 GR</td>\n",
       "      <td>$8.53</td>\n",
       "      <td>-5.5%</td>\n",
       "      <td>8.53</td>\n",
       "      <td>-0.055</td>\n",
       "    </tr>\n",
       "    <tr>\n",
       "      <td>3</td>\n",
       "      <td>DULCES</td>\n",
       "      <td>0750617451222</td>\n",
       "      <td>MILKYWAY CHOCO 2PACK</td>\n",
       "      <td>$23.00</td>\n",
       "      <td>-0.8%</td>\n",
       "      <td>23.00</td>\n",
       "      <td>-0.008</td>\n",
       "    </tr>\n",
       "    <tr>\n",
       "      <td>4</td>\n",
       "      <td>DULCES</td>\n",
       "      <td>0750617450265</td>\n",
       "      <td>MILKY WAY 22 GR</td>\n",
       "      <td>$8.61</td>\n",
       "      <td>-4.2%</td>\n",
       "      <td>8.61</td>\n",
       "      <td>-0.042</td>\n",
       "    </tr>\n",
       "    <tr>\n",
       "      <td>...</td>\n",
       "      <td>...</td>\n",
       "      <td>...</td>\n",
       "      <td>...</td>\n",
       "      <td>...</td>\n",
       "      <td>...</td>\n",
       "      <td>...</td>\n",
       "      <td>...</td>\n",
       "    </tr>\n",
       "    <tr>\n",
       "      <td>3799</td>\n",
       "      <td>OTROS EMBUTIDOS</td>\n",
       "      <td>0750151849135</td>\n",
       "      <td>PARMA JAMON SERRANO</td>\n",
       "      <td>$85.06</td>\n",
       "      <td>1.8%</td>\n",
       "      <td>85.06</td>\n",
       "      <td>0.018</td>\n",
       "    </tr>\n",
       "    <tr>\n",
       "      <td>3800</td>\n",
       "      <td>OTROS EMBUTIDOS</td>\n",
       "      <td>0750151849129</td>\n",
       "      <td>PARMA SELEC GOURMET</td>\n",
       "      <td>$121.94</td>\n",
       "      <td>-6.3%</td>\n",
       "      <td>121.94</td>\n",
       "      <td>-0.063</td>\n",
       "    </tr>\n",
       "    <tr>\n",
       "      <td>3801</td>\n",
       "      <td>OTROS EMBUTIDOS</td>\n",
       "      <td>0750151849165</td>\n",
       "      <td>PARMA DELICHAROLA</td>\n",
       "      <td>$112.79</td>\n",
       "      <td>0.8%</td>\n",
       "      <td>112.79</td>\n",
       "      <td>0.008</td>\n",
       "    </tr>\n",
       "    <tr>\n",
       "      <td>3802</td>\n",
       "      <td>ALIMENTOS VEGETARIANOS</td>\n",
       "      <td>0750302809003</td>\n",
       "      <td>FRIJOL PINTO MOLID0</td>\n",
       "      <td>$38.00</td>\n",
       "      <td>-4.9%</td>\n",
       "      <td>38.00</td>\n",
       "      <td>-0.049</td>\n",
       "    </tr>\n",
       "    <tr>\n",
       "      <td>3803</td>\n",
       "      <td>ALIMENTOS VEGETARIANOS</td>\n",
       "      <td>0750302809001</td>\n",
       "      <td>FABER FRIJOL ENTERO</td>\n",
       "      <td>$43.50</td>\n",
       "      <td>-6.7%</td>\n",
       "      <td>43.50</td>\n",
       "      <td>-0.067</td>\n",
       "    </tr>\n",
       "  </tbody>\n",
       "</table>\n",
       "<p>3804 rows × 7 columns</p>\n",
       "</div>"
      ],
      "text/plain": [
       "                   Categoría            UPC           Descripción Precio WM   \\\n",
       "0                     DULCES  0789100024836  NESTLE KIT-KAT 4FING    $14.94    \n",
       "1                     DULCES  0750617451226  SNICKERS CHOCOLATE C    $23.50    \n",
       "2                     DULCES  0750617450264      SNICKERS 21.5 GR     $8.53    \n",
       "3                     DULCES  0750617451222  MILKYWAY CHOCO 2PACK    $23.00    \n",
       "4                     DULCES  0750617450265       MILKY WAY 22 GR     $8.61    \n",
       "...                      ...            ...                   ...        ...   \n",
       "3799         OTROS EMBUTIDOS  0750151849135   PARMA JAMON SERRANO    $85.06    \n",
       "3800         OTROS EMBUTIDOS  0750151849129   PARMA SELEC GOURMET   $121.94    \n",
       "3801         OTROS EMBUTIDOS  0750151849165     PARMA DELICHAROLA   $112.79    \n",
       "3802  ALIMENTOS VEGETARIANOS  0750302809003   FRIJOL PINTO MOLID0    $38.00    \n",
       "3803  ALIMENTOS VEGETARIANOS  0750302809001   FABER FRIJOL ENTERO    $43.50    \n",
       "\n",
       "     Último %Dif Reportado  imp_Precio  pct_ult_dif  \n",
       "0                    -6.4%       14.94       -0.064  \n",
       "1                    -2.3%       23.50       -0.023  \n",
       "2                    -5.5%        8.53       -0.055  \n",
       "3                    -0.8%       23.00       -0.008  \n",
       "4                    -4.2%        8.61       -0.042  \n",
       "...                    ...         ...          ...  \n",
       "3799                  1.8%       85.06        0.018  \n",
       "3800                 -6.3%      121.94       -0.063  \n",
       "3801                  0.8%      112.79        0.008  \n",
       "3802                 -4.9%       38.00       -0.049  \n",
       "3803                 -6.7%       43.50       -0.067  \n",
       "\n",
       "[3804 rows x 7 columns]"
      ]
     },
     "execution_count": 19,
     "metadata": {},
     "output_type": "execute_result"
    }
   ],
   "source": [
    "#df_costo_wm_unpivoted[df_costo_wm_unpivoted['Semana'] == 'Precio WM ']  # 3,804 registros\n",
    "\n",
    "df_costo_wm_unpivoted"
   ]
  },
  {
   "cell_type": "code",
   "execution_count": 20,
   "metadata": {},
   "outputs": [
    {
     "data": {
      "text/plain": [
       "<matplotlib.axes._subplots.AxesSubplot at 0x1d6f59eaf08>"
      ]
     },
     "execution_count": 20,
     "metadata": {},
     "output_type": "execute_result"
    },
    {
     "data": {
      "image/png": "[encoded data removed]",
      "text/plain": [
       "<Figure size 432x288 with 1 Axes>"
      ]
     },
     "metadata": {
      "needs_background": "light"
     },
     "output_type": "display_data"
    }
   ],
   "source": [
    "sns.boxplot(x=df_costo_wm_unpivoted['imp_Precio'])"
   ]
  },
  {
   "cell_type": "code",
   "execution_count": 21,
   "metadata": {},
   "outputs": [
    {
     "data": {
      "text/plain": [
       "<matplotlib.axes._subplots.AxesSubplot at 0x1d6f5a48908>"
      ]
     },
     "execution_count": 21,
     "metadata": {},
     "output_type": "execute_result"
    },
    {
     "data": {
      "image/png": "[encoded data removed]",
      "text/plain": [
       "<Figure size 432x288 with 1 Axes>"
      ]
     },
     "metadata": {
      "needs_background": "light"
     },
     "output_type": "display_data"
    }
   ],
   "source": [
    "sns.boxplot(x=df_costo_wm_unpivoted['imp_Precio'], y=\"Categoría\", data=df)"
   ]
  },
  {
   "cell_type": "markdown",
   "metadata": {},
   "source": [
    "#### Gráficas generales último diferencial"
   ]
  },
  {
   "cell_type": "code",
   "execution_count": 22,
   "metadata": {},
   "outputs": [
    {
     "data": {
      "text/plain": [
       "<matplotlib.axes._subplots.AxesSubplot at 0x1d6f5c55e48>"
      ]
     },
     "execution_count": 22,
     "metadata": {},
     "output_type": "execute_result"
    },
    {
     "data": {
      "image/png": "[encoded data removed]",
      "text/plain": [
       "<Figure size 432x288 with 1 Axes>"
      ]
     },
     "metadata": {
      "needs_background": "light"
     },
     "output_type": "display_data"
    }
   ],
   "source": [
    "sns.distplot(df_costo_wm_unpivoted['pct_ult_dif'])"
   ]
  },
  {
   "cell_type": "code",
   "execution_count": 23,
   "metadata": {},
   "outputs": [
    {
     "data": {
      "text/plain": [
       "<matplotlib.axes._subplots.AxesSubplot at 0x1d6f5d9cec8>"
      ]
     },
     "execution_count": 23,
     "metadata": {},
     "output_type": "execute_result"
    },
    {
     "data": {
      "image/png": "[encoded data removed]",
      "text/plain": [
       "<Figure size 432x288 with 1 Axes>"
      ]
     },
     "metadata": {
      "needs_background": "light"
     },
     "output_type": "display_data"
    }
   ],
   "source": [
    "sns.boxplot(x=df_costo_wm_unpivoted['pct_ult_dif'])"
   ]
  },
  {
   "cell_type": "code",
   "execution_count": 24,
   "metadata": {},
   "outputs": [
    {
     "data": {
      "text/plain": [
       "<matplotlib.axes._subplots.AxesSubplot at 0x1d6f5e14e08>"
      ]
     },
     "execution_count": 24,
     "metadata": {},
     "output_type": "execute_result"
    },
    {
     "data": {
      "image/png": "[encoded data removed]",
      "text/plain": [
       "<Figure size 432x288 with 1 Axes>"
      ]
     },
     "metadata": {
      "needs_background": "light"
     },
     "output_type": "display_data"
    }
   ],
   "source": [
    "sns.boxplot(x=df_costo_wm_unpivoted['pct_ult_dif'], y=\"Categoría\", data=df)"
   ]
  },
  {
   "cell_type": "markdown",
   "metadata": {},
   "source": [
    "#### Gráficas particulares categoría dulces walmart"
   ]
  },
  {
   "cell_type": "code",
   "execution_count": 25,
   "metadata": {},
   "outputs": [
    {
     "data": {
      "text/plain": [
       "<matplotlib.axes._subplots.AxesSubplot at 0x1d6f7024888>"
      ]
     },
     "execution_count": 25,
     "metadata": {},
     "output_type": "execute_result"
    },
    {
     "data": {
      "image/png": "[encoded data removed]",
      "text/plain": [
       "<Figure size 432x288 with 1 Axes>"
      ]
     },
     "metadata": {
      "needs_background": "light"
     },
     "output_type": "display_data"
    }
   ],
   "source": [
    "sns.distplot(df_costo_wm_unpivoted[df_costo_wm_unpivoted['Categoría']=='DULCES']['imp_Precio'])"
   ]
  },
  {
   "cell_type": "code",
   "execution_count": 26,
   "metadata": {},
   "outputs": [
    {
     "data": {
      "text/plain": [
       "<matplotlib.axes._subplots.AxesSubplot at 0x1d6f70c4208>"
      ]
     },
     "execution_count": 26,
     "metadata": {},
     "output_type": "execute_result"
    },
    {
     "data": {
      "image/png": "[encoded data removed]",
      "text/plain": [
       "<Figure size 432x288 with 1 Axes>"
      ]
     },
     "metadata": {
      "needs_background": "light"
     },
     "output_type": "display_data"
    }
   ],
   "source": [
    "sns.boxplot(df_costo_wm_unpivoted[df_costo_wm_unpivoted['Categoría']=='DULCES']['imp_Precio'])"
   ]
  },
  {
   "cell_type": "code",
   "execution_count": 27,
   "metadata": {},
   "outputs": [
    {
     "data": {
      "text/plain": [
       "0       -6.4%\n",
       "1       -2.3%\n",
       "2       -5.5%\n",
       "3       -0.8%\n",
       "4       -4.2%\n",
       "        ...  \n",
       "3799     1.8%\n",
       "3800    -6.3%\n",
       "3801     0.8%\n",
       "3802    -4.9%\n",
       "3803    -6.7%\n",
       "Name: Último %Dif Reportado, Length: 3804, dtype: object"
      ]
     },
     "execution_count": 27,
     "metadata": {},
     "output_type": "execute_result"
    }
   ],
   "source": [
    "df['Último %Dif Reportado']"
   ]
  },
  {
   "cell_type": "code",
   "execution_count": 28,
   "metadata": {},
   "outputs": [],
   "source": [
    "#sns.pairplot(df_costo_wm_unpivoted)"
   ]
  },
  {
   "cell_type": "markdown",
   "metadata": {},
   "source": [
    "## Modelado"
   ]
  },
  {
   "cell_type": "code",
   "execution_count": 29,
   "metadata": {},
   "outputs": [
    {
     "data": {
      "text/html": [
       "<div>\n",
       "<style scoped>\n",
       "    .dataframe tbody tr th:only-of-type {\n",
       "        vertical-align: middle;\n",
       "    }\n",
       "\n",
       "    .dataframe tbody tr th {\n",
       "        vertical-align: top;\n",
       "    }\n",
       "\n",
       "    .dataframe thead th {\n",
       "        text-align: right;\n",
       "    }\n",
       "</style>\n",
       "<table border=\"1\" class=\"dataframe\">\n",
       "  <thead>\n",
       "    <tr style=\"text-align: right;\">\n",
       "      <th></th>\n",
       "      <th>Categoría</th>\n",
       "      <th>UPC</th>\n",
       "      <th>Descripción</th>\n",
       "      <th>Precio WM</th>\n",
       "      <th>Último %Dif Reportado</th>\n",
       "      <th>imp_Precio</th>\n",
       "      <th>pct_ult_dif</th>\n",
       "    </tr>\n",
       "  </thead>\n",
       "  <tbody>\n",
       "    <tr>\n",
       "      <td>0</td>\n",
       "      <td>DULCES</td>\n",
       "      <td>0789100024836</td>\n",
       "      <td>NESTLE KIT-KAT 4FING</td>\n",
       "      <td>$14.94</td>\n",
       "      <td>-6.4%</td>\n",
       "      <td>14.94</td>\n",
       "      <td>-0.064</td>\n",
       "    </tr>\n",
       "    <tr>\n",
       "      <td>1</td>\n",
       "      <td>DULCES</td>\n",
       "      <td>0750617451226</td>\n",
       "      <td>SNICKERS CHOCOLATE C</td>\n",
       "      <td>$23.50</td>\n",
       "      <td>-2.3%</td>\n",
       "      <td>23.50</td>\n",
       "      <td>-0.023</td>\n",
       "    </tr>\n",
       "    <tr>\n",
       "      <td>2</td>\n",
       "      <td>DULCES</td>\n",
       "      <td>0750617450264</td>\n",
       "      <td>SNICKERS 21.5 GR</td>\n",
       "      <td>$8.53</td>\n",
       "      <td>-5.5%</td>\n",
       "      <td>8.53</td>\n",
       "      <td>-0.055</td>\n",
       "    </tr>\n",
       "    <tr>\n",
       "      <td>3</td>\n",
       "      <td>DULCES</td>\n",
       "      <td>0750617451222</td>\n",
       "      <td>MILKYWAY CHOCO 2PACK</td>\n",
       "      <td>$23.00</td>\n",
       "      <td>-0.8%</td>\n",
       "      <td>23.00</td>\n",
       "      <td>-0.008</td>\n",
       "    </tr>\n",
       "    <tr>\n",
       "      <td>4</td>\n",
       "      <td>DULCES</td>\n",
       "      <td>0750617450265</td>\n",
       "      <td>MILKY WAY 22 GR</td>\n",
       "      <td>$8.61</td>\n",
       "      <td>-4.2%</td>\n",
       "      <td>8.61</td>\n",
       "      <td>-0.042</td>\n",
       "    </tr>\n",
       "    <tr>\n",
       "      <td>...</td>\n",
       "      <td>...</td>\n",
       "      <td>...</td>\n",
       "      <td>...</td>\n",
       "      <td>...</td>\n",
       "      <td>...</td>\n",
       "      <td>...</td>\n",
       "      <td>...</td>\n",
       "    </tr>\n",
       "    <tr>\n",
       "      <td>508</td>\n",
       "      <td>DULCES</td>\n",
       "      <td>0750616120995</td>\n",
       "      <td>GREZON HUEVO PEPPA</td>\n",
       "      <td>$22.50</td>\n",
       "      <td>-30.5%</td>\n",
       "      <td>22.50</td>\n",
       "      <td>-0.305</td>\n",
       "    </tr>\n",
       "    <tr>\n",
       "      <td>509</td>\n",
       "      <td>DULCES</td>\n",
       "      <td>0750616121743</td>\n",
       "      <td>GREZON HUEVO JACKIE</td>\n",
       "      <td>$22.50</td>\n",
       "      <td>-27.8%</td>\n",
       "      <td>22.50</td>\n",
       "      <td>-0.278</td>\n",
       "    </tr>\n",
       "    <tr>\n",
       "      <td>510</td>\n",
       "      <td>DULCES</td>\n",
       "      <td>0762230098658</td>\n",
       "      <td>HALLS MINI EXTRA STR</td>\n",
       "      <td>$8.99</td>\n",
       "      <td>-0.1%</td>\n",
       "      <td>8.99</td>\n",
       "      <td>-0.001</td>\n",
       "    </tr>\n",
       "    <tr>\n",
       "      <td>511</td>\n",
       "      <td>DULCES</td>\n",
       "      <td>0762230098650</td>\n",
       "      <td>HALLS MINI MENTA</td>\n",
       "      <td>$8.73</td>\n",
       "      <td>-3.1%</td>\n",
       "      <td>8.73</td>\n",
       "      <td>-0.031</td>\n",
       "    </tr>\n",
       "    <tr>\n",
       "      <td>512</td>\n",
       "      <td>DULCES</td>\n",
       "      <td>0000007614551</td>\n",
       "      <td>TOBLERONE CHOCOLATE</td>\n",
       "      <td>$30.00</td>\n",
       "      <td>48.3%</td>\n",
       "      <td>30.00</td>\n",
       "      <td>0.483</td>\n",
       "    </tr>\n",
       "  </tbody>\n",
       "</table>\n",
       "<p>513 rows × 7 columns</p>\n",
       "</div>"
      ],
      "text/plain": [
       "    Categoría            UPC           Descripción Precio WM   \\\n",
       "0      DULCES  0789100024836  NESTLE KIT-KAT 4FING    $14.94    \n",
       "1      DULCES  0750617451226  SNICKERS CHOCOLATE C    $23.50    \n",
       "2      DULCES  0750617450264      SNICKERS 21.5 GR     $8.53    \n",
       "3      DULCES  0750617451222  MILKYWAY CHOCO 2PACK    $23.00    \n",
       "4      DULCES  0750617450265       MILKY WAY 22 GR     $8.61    \n",
       "..        ...            ...                   ...        ...   \n",
       "508    DULCES  0750616120995    GREZON HUEVO PEPPA    $22.50    \n",
       "509    DULCES  0750616121743   GREZON HUEVO JACKIE    $22.50    \n",
       "510    DULCES  0762230098658  HALLS MINI EXTRA STR     $8.99    \n",
       "511    DULCES  0762230098650      HALLS MINI MENTA     $8.73    \n",
       "512    DULCES  0000007614551   TOBLERONE CHOCOLATE    $30.00    \n",
       "\n",
       "    Último %Dif Reportado  imp_Precio  pct_ult_dif  \n",
       "0                   -6.4%       14.94       -0.064  \n",
       "1                   -2.3%       23.50       -0.023  \n",
       "2                   -5.5%        8.53       -0.055  \n",
       "3                   -0.8%       23.00       -0.008  \n",
       "4                   -4.2%        8.61       -0.042  \n",
       "..                    ...         ...          ...  \n",
       "508                -30.5%       22.50       -0.305  \n",
       "509                -27.8%       22.50       -0.278  \n",
       "510                 -0.1%        8.99       -0.001  \n",
       "511                 -3.1%        8.73       -0.031  \n",
       "512                 48.3%       30.00        0.483  \n",
       "\n",
       "[513 rows x 7 columns]"
      ]
     },
     "execution_count": 29,
     "metadata": {},
     "output_type": "execute_result"
    }
   ],
   "source": [
    "df_costo_wm_unpivoted_p = df_costo_wm_unpivoted[df_costo_wm_unpivoted['Categoría']=='DULCES'].reset_index().copy()\n",
    "#df_costo_wm_unpivoted_p.reset_index()\n",
    "df_costo_wm_unpivoted_p = df_costo_wm_unpivoted_p.drop(columns=['index'])\n",
    "df_costo_wm_unpivoted_p"
   ]
  },
  {
   "cell_type": "code",
   "execution_count": 30,
   "metadata": {},
   "outputs": [],
   "source": [
    "import scipy as sp\n",
    "import matplotlib.pyplot as plt\n",
    "\n",
    "from sklearn.cluster import KMeans"
   ]
  },
  {
   "cell_type": "code",
   "execution_count": 31,
   "metadata": {},
   "outputs": [
    {
     "data": {
      "text/plain": [
       "<matplotlib.axes._subplots.AxesSubplot at 0x1d6f7677fc8>"
      ]
     },
     "execution_count": 31,
     "metadata": {},
     "output_type": "execute_result"
    },
    {
     "data": {
      "image/png": "[encoded data removed]",
      "text/plain": [
       "<Figure size 432x288 with 1 Axes>"
      ]
     },
     "metadata": {
      "needs_background": "light"
     },
     "output_type": "display_data"
    }
   ],
   "source": [
    "sns.scatterplot(x='imp_Precio', y='pct_ult_dif', \n",
    "\n",
    "                     data=df_costo_wm_unpivoted_p)\n",
    " #result = sp.stats.pearsonr('imp_Precio','Último %Dif Reportado')[df_costo_wm_unpivoted]\n",
    " "
   ]
  },
  {
   "cell_type": "markdown",
   "metadata": {},
   "source": [
    "### 1.- AgglomerativeClustering"
   ]
  },
  {
   "cell_type": "code",
   "execution_count": 32,
   "metadata": {},
   "outputs": [],
   "source": [
    "\n",
    "## 3\n",
    "from sklearn.cluster import AgglomerativeClustering \n",
    "\n",
    "\n",
    "\n"
   ]
  },
  {
   "cell_type": "code",
   "execution_count": 33,
   "metadata": {},
   "outputs": [
    {
     "name": "stderr",
     "output_type": "stream",
     "text": [
      "D:\\Program\\DS\\lib\\site-packages\\ipykernel_launcher.py:6: SettingWithCopyWarning: \n",
      "A value is trying to be set on a copy of a slice from a DataFrame.\n",
      "Try using .loc[row_indexer,col_indexer] = value instead\n",
      "\n",
      "See the caveats in the documentation: http://pandas.pydata.org/pandas-docs/stable/user_guide/indexing.html#returning-a-view-versus-a-copy\n",
      "  \n"
     ]
    },
    {
     "data": {
      "image/png": "[encoded data removed]",
      "text/plain": [
       "<Figure size 864x576 with 1 Axes>"
      ]
     },
     "metadata": {
      "needs_background": "light"
     },
     "output_type": "display_data"
    }
   ],
   "source": [
    "## 3.1\n",
    "X = df_costo_wm_unpivoted_p[['imp_Precio','pct_ult_dif']]\n",
    "num_clusters = 3\n",
    "agglom = AgglomerativeClustering(n_clusters=num_clusters, linkage='average').fit(X)\n",
    "\n",
    "X['Labels'] = agglom.labels_\n",
    "plt.figure(figsize=(12, 8))\n",
    "sns.scatterplot(x='imp_Precio', y='pct_ult_dif', hue=X['Labels'], \n",
    "                palette=sns.color_palette('hls', 3),data=df_costo_wm_unpivoted_p)\n",
    "plt.title('Agglomerative with %d  Clusters' %num_clusters)\n",
    "plt.show()\n",
    "\n",
    "#sns.scatterplot(x='imp_Precio', y='pct_ult_dif', hue = y,  data=df_costo_wm_unpivoted)"
   ]
  },
  {
   "cell_type": "code",
   "execution_count": 34,
   "metadata": {},
   "outputs": [
    {
     "name": "stdout",
     "output_type": "stream",
     "text": [
      "AgglomerativeClustering(affinity='euclidean', compute_full_tree='auto',\n",
      "                        connectivity=None, distance_threshold=0, linkage='ward',\n",
      "                        memory=None, n_clusters=None)\n"
     ]
    },
    {
     "data": {
      "image/png": "[encoded data removed]",
      "text/plain": [
       "<Figure size 432x288 with 1 Axes>"
      ]
     },
     "metadata": {
      "needs_background": "light"
     },
     "output_type": "display_data"
    }
   ],
   "source": [
    "import numpy as np\n",
    "\n",
    "from matplotlib import pyplot as plt\n",
    "from scipy.cluster.hierarchy import dendrogram\n",
    "\n",
    "from sklearn.cluster import AgglomerativeClustering\n",
    "\n",
    "\n",
    "def plot_dendrogram(model, **kwargs):\n",
    "    # Create linkage matrix and then plot the dendrogram\n",
    "\n",
    "    # create the counts of samples under each node\n",
    "    counts = np.zeros(model.children_.shape[0])\n",
    "    n_samples = len(model.labels_)\n",
    "    for i, merge in enumerate(model.children_):\n",
    "        current_count = 0\n",
    "        for child_idx in merge:\n",
    "            if child_idx < n_samples:\n",
    "                current_count += 1  # leaf node\n",
    "            else:\n",
    "                current_count += counts[child_idx - n_samples]\n",
    "        counts[i] = current_count\n",
    "\n",
    "    linkage_matrix = np.column_stack([model.children_, model.distances_,\n",
    "                                      counts]).astype(float)\n",
    "\n",
    "    # Plot the corresponding dendrogram\n",
    "    dendrogram(linkage_matrix, **kwargs)\n",
    "    #iris = load_iris()\n",
    "X = df_costo_wm_unpivoted_p[['imp_Precio','pct_ult_dif']]\n",
    "\n",
    "# setting distance_threshold=0 ensures we compute the full tree.\n",
    "model = AgglomerativeClustering(distance_threshold=0, n_clusters=None)\n",
    "\n",
    "model = model.fit(X)\n",
    "print(model)\n",
    "plt.title('Hierarchical Clustering Dendrogram')\n",
    "# plot the top three levels of the dendrogram\n",
    "plot_dendrogram(model, truncate_mode='level', p=3)\n",
    "plt.xlabel(\"Number of points in node (or index of point if no parenthesis).\")\n",
    "plt.show()"
   ]
  },
  {
   "cell_type": "markdown",
   "metadata": {},
   "source": [
    "### 2.- Método MeanShift"
   ]
  },
  {
   "cell_type": "code",
   "execution_count": 35,
   "metadata": {},
   "outputs": [],
   "source": [
    "##4\n",
    "import numpy as np\n",
    "from sklearn.cluster import MeanShift, estimate_bandwidth\n",
    "from sklearn.datasets import make_blobs"
   ]
  },
  {
   "cell_type": "code",
   "execution_count": 36,
   "metadata": {},
   "outputs": [],
   "source": [
    "##4\n",
    "X = df_costo_wm_unpivoted_p[['imp_Precio','pct_ult_dif']]"
   ]
  },
  {
   "cell_type": "code",
   "execution_count": 37,
   "metadata": {},
   "outputs": [],
   "source": [
    "##4\n",
    "T_WM = df_costo_wm_unpivoted_p[['imp_Precio','pct_ult_dif']].to_numpy()\n"
   ]
  },
  {
   "cell_type": "code",
   "execution_count": 38,
   "metadata": {},
   "outputs": [
    {
     "name": "stdout",
     "output_type": "stream",
     "text": [
      "number of estimated clusters : 2\n"
     ]
    }
   ],
   "source": [
    "\n",
    "##4\n",
    "X = T_WM\n",
    "\n",
    "bandwidth = estimate_bandwidth(X, quantile=0.9, n_samples=500)\n",
    "\n",
    "ms = MeanShift(bandwidth=bandwidth, bin_seeding=True)\n",
    "ms.fit(X)\n",
    "labels = ms.labels_\n",
    "cluster_centers = ms.cluster_centers_\n",
    "\n",
    "labels_unique = np.unique(labels)\n",
    "n_clusters_ = len(labels_unique)\n",
    "\n",
    "print(\"number of estimated clusters : %d\" % n_clusters_)"
   ]
  },
  {
   "cell_type": "code",
   "execution_count": 39,
   "metadata": {},
   "outputs": [
    {
     "data": {
      "image/png": "[encoded data removed]",
      "text/plain": [
       "<Figure size 432x288 with 1 Axes>"
      ]
     },
     "metadata": {
      "needs_background": "light"
     },
     "output_type": "display_data"
    }
   ],
   "source": [
    "##4\n",
    "# Plot result\n",
    "import matplotlib.pyplot as plt\n",
    "from itertools import cycle\n",
    "\n",
    "plt.figure(1)\n",
    "plt.clf()\n",
    "\n",
    "colors = cycle('bg')\n",
    "\n",
    "\n",
    "for k, col in zip(range(n_clusters_), colors):\n",
    "    my_members = labels == k\n",
    "    cluster_center = cluster_centers[k]\n",
    "\n",
    "    #plt.plot(X['imp_Precio'], X['pct_ult_dif'], col + '.')\n",
    "    plt.plot(X[my_members, 0], X[my_members, 1], col + '.')\n",
    "    \n",
    "    #print(labels)\n",
    "    #plt.plot(cluster_center[0], cluster_center[1], '*', markerfacecolor=col,\n",
    "     #        markeredgecolor='k', markersize=14)\n",
    "    \n",
    "for k, col in zip(range(n_clusters_), colors):\n",
    "    my_members = labels == k\n",
    "    cluster_center = cluster_centers[k]\n",
    "    #plt.plot(X['imp_Precio'], X['pct_ult_dif'], col + '.')\n",
    "    plt.plot(cluster_center[0], cluster_center[1], '*', markerfacecolor=col,\n",
    "             markeredgecolor='k', markersize=14)\n",
    "plt.title('Estimated number of clusters: %d' % n_clusters_)\n",
    "plt.show()"
   ]
  },
  {
   "cell_type": "code",
   "execution_count": 40,
   "metadata": {},
   "outputs": [
    {
     "data": {
      "text/plain": [
       "13.597613378804484"
      ]
     },
     "execution_count": 40,
     "metadata": {},
     "output_type": "execute_result"
    }
   ],
   "source": [
    "# Medida de error\n",
    "#dir(ms)\n",
    "ms.bandwidth"
   ]
  },
  {
   "cell_type": "markdown",
   "metadata": {},
   "source": [
    "### Análisis para determinar k"
   ]
  },
  {
   "cell_type": "code",
   "execution_count": 41,
   "metadata": {},
   "outputs": [
    {
     "data": {
      "image/png": "[encoded data removed]",
      "text/plain": [
       "<Figure size 432x432 with 1 Axes>"
      ]
     },
     "metadata": {
      "needs_background": "light"
     },
     "output_type": "display_data"
    }
   ],
   "source": [
    "# Run the Kmeans algorithm and get the index of data points clusters\n",
    "X = df_costo_wm_unpivoted_p[['imp_Precio','pct_ult_dif']]\n",
    "sse = []\n",
    "list_k = list(range(1, 10))\n",
    "\n",
    "for k in list_k:\n",
    "    km = KMeans(n_clusters=k)\n",
    "    km.fit(X)\n",
    "    sse.append(km.inertia_)\n",
    "\n",
    "# Plot sse against k\n",
    "plt.figure(figsize=(6, 6))\n",
    "plt.plot(list_k, sse, '-o')\n",
    "plt.xlabel(r'Number of clusters *k*')\n",
    "plt.ylabel('Sum of squared distance');\n",
    "\n",
    "### Fuente: \n",
    "### https://towardsdatascience.com/k-means-clustering-algorithm-applications-evaluation-methods-and-drawbacks-aa03e644b48a"
   ]
  },
  {
   "cell_type": "markdown",
   "metadata": {},
   "source": [
    "### 3.- Aplicación de K means"
   ]
  },
  {
   "cell_type": "code",
   "execution_count": 42,
   "metadata": {},
   "outputs": [
    {
     "data": {
      "text/plain": [
       "KMeans(algorithm='auto', copy_x=True, init='k-means++', max_iter=300,\n",
       "       n_clusters=3, n_init=10, n_jobs=None, precompute_distances='auto',\n",
       "       random_state=None, tol=0.0001, verbose=0)"
      ]
     },
     "execution_count": 42,
     "metadata": {},
     "output_type": "execute_result"
    }
   ],
   "source": [
    "X = df_costo_wm_unpivoted_p[['imp_Precio','pct_ult_dif']]\n",
    "modelo = KMeans(n_clusters = 3)  #Se define número de clusters\n",
    "modelo.fit(X)"
   ]
  },
  {
   "cell_type": "code",
   "execution_count": 43,
   "metadata": {
    "scrolled": true
   },
   "outputs": [
    {
     "name": "stdout",
     "output_type": "stream",
     "text": [
      "[[ 1.83547869e+01 -9.34098361e-03]\n",
      " [ 3.35126471e+01 -4.82941176e-02]\n",
      " [ 8.43505747e+00  5.60114943e-02]]\n"
     ]
    }
   ],
   "source": [
    "### probar\n",
    "#kmeans = KMeans(n_clusters=5).fit(X)\n",
    "centroids = modelo.cluster_centers_\n",
    "print(centroids)"
   ]
  },
  {
   "cell_type": "code",
   "execution_count": 44,
   "metadata": {},
   "outputs": [
    {
     "data": {
      "text/plain": [
       "<matplotlib.collections.PathCollection at 0x1d6f7b36cc8>"
      ]
     },
     "execution_count": 44,
     "metadata": {},
     "output_type": "execute_result"
    },
    {
     "data": {
      "image/png": "[encoded data removed]",
      "text/plain": [
       "<Figure size 432x288 with 1 Axes>"
      ]
     },
     "metadata": {
      "needs_background": "light"
     },
     "output_type": "display_data"
    }
   ],
   "source": [
    "# Obtiene las etiquetas que especifican a qué grupo pertenecen los datos de X\n",
    "y = modelo.predict(X)\n",
    "\n",
    "# Obtiene las coordenadas de los centroides\n",
    "C = modelo.cluster_centers_\n",
    "\n",
    "# Grafica los datos agrupados\n",
    "######plt.scatter(df_costo_wm_unpivoted[['imp_Precio']],df_costo_wm_unpivoted[['pct_ult_dif']],c=y)\n",
    "plt.scatter(X['imp_Precio'],X['pct_ult_dif'],c=y)\n",
    "#plt.scatter(df_costo_wm_unpivoted[['imp_Precio']],df_costo_wm_unpivoted[['pct_ult_dif']],marker='*',color = 'black', s = 1000)\n",
    "plt.scatter(C[:,0],C[:,1],marker='.',color = 'green', s = 200)"
   ]
  },
  {
   "cell_type": "code",
   "execution_count": 45,
   "metadata": {},
   "outputs": [
    {
     "data": {
      "text/html": [
       "<div>\n",
       "<style scoped>\n",
       "    .dataframe tbody tr th:only-of-type {\n",
       "        vertical-align: middle;\n",
       "    }\n",
       "\n",
       "    .dataframe tbody tr th {\n",
       "        vertical-align: top;\n",
       "    }\n",
       "\n",
       "    .dataframe thead th {\n",
       "        text-align: right;\n",
       "    }\n",
       "</style>\n",
       "<table border=\"1\" class=\"dataframe\">\n",
       "  <thead>\n",
       "    <tr style=\"text-align: right;\">\n",
       "      <th></th>\n",
       "      <th>imp_Precio</th>\n",
       "      <th>pct_ult_dif</th>\n",
       "    </tr>\n",
       "  </thead>\n",
       "  <tbody>\n",
       "    <tr>\n",
       "      <td>imp_Precio</td>\n",
       "      <td>1.000000</td>\n",
       "      <td>-0.386194</td>\n",
       "    </tr>\n",
       "    <tr>\n",
       "      <td>pct_ult_dif</td>\n",
       "      <td>-0.386194</td>\n",
       "      <td>1.000000</td>\n",
       "    </tr>\n",
       "  </tbody>\n",
       "</table>\n",
       "</div>"
      ],
      "text/plain": [
       "             imp_Precio  pct_ult_dif\n",
       "imp_Precio     1.000000    -0.386194\n",
       "pct_ult_dif   -0.386194     1.000000"
      ]
     },
     "execution_count": 45,
     "metadata": {},
     "output_type": "execute_result"
    }
   ],
   "source": [
    "#vix_on_gdp = pd.ols(y=df['imp_Precio'], x=df['pct_ult_dif'], intercept=True)\n",
    "#print(df_costo_wm_unpivoted['imp_Precio'].corr(df_costo_wm_unpivoted['pct_ult_dif']), vix_on_gdp.f_stat['p-value'])\n",
    "#dir(pd)\n",
    "df_costo_wm_unpivoted_p.corr()"
   ]
  },
  {
   "cell_type": "code",
   "execution_count": 46,
   "metadata": {},
   "outputs": [
    {
     "data": {
      "text/plain": [
       "<matplotlib.image.AxesImage at 0x1d6f7c7e848>"
      ]
     },
     "execution_count": 46,
     "metadata": {},
     "output_type": "execute_result"
    },
    {
     "data": {
      "image/png": "[encoded data removed]",
      "text/plain": [
       "<Figure size 288x288 with 1 Axes>"
      ]
     },
     "metadata": {
      "needs_background": "light"
     },
     "output_type": "display_data"
    }
   ],
   "source": [
    "plt.matshow(df_costo_wm_unpivoted_p.corr())"
   ]
  },
  {
   "cell_type": "code",
   "execution_count": 47,
   "metadata": {},
   "outputs": [
    {
     "name": "stdout",
     "output_type": "stream",
     "text": [
      "0      0\n",
      "1      0\n",
      "2      2\n",
      "3      0\n",
      "4      2\n",
      "      ..\n",
      "508    0\n",
      "509    0\n",
      "510    2\n",
      "511    2\n",
      "512    1\n",
      "Length: 513, dtype: int32\n",
      "[0 2 1]\n"
     ]
    },
    {
     "data": {
      "text/html": [
       "<div>\n",
       "<style scoped>\n",
       "    .dataframe tbody tr th:only-of-type {\n",
       "        vertical-align: middle;\n",
       "    }\n",
       "\n",
       "    .dataframe tbody tr th {\n",
       "        vertical-align: top;\n",
       "    }\n",
       "\n",
       "    .dataframe thead th {\n",
       "        text-align: right;\n",
       "    }\n",
       "</style>\n",
       "<table border=\"1\" class=\"dataframe\">\n",
       "  <thead>\n",
       "    <tr style=\"text-align: right;\">\n",
       "      <th></th>\n",
       "      <th>Categoría</th>\n",
       "      <th>UPC</th>\n",
       "      <th>Descripción</th>\n",
       "      <th>Precio WM</th>\n",
       "      <th>Último %Dif Reportado</th>\n",
       "      <th>imp_Precio</th>\n",
       "      <th>pct_ult_dif</th>\n",
       "      <th>Clasif</th>\n",
       "    </tr>\n",
       "  </thead>\n",
       "  <tbody>\n",
       "    <tr>\n",
       "      <td>0</td>\n",
       "      <td>DULCES</td>\n",
       "      <td>0789100024836</td>\n",
       "      <td>NESTLE KIT-KAT 4FING</td>\n",
       "      <td>$14.94</td>\n",
       "      <td>-6.4%</td>\n",
       "      <td>14.94</td>\n",
       "      <td>-0.064</td>\n",
       "      <td>0</td>\n",
       "    </tr>\n",
       "    <tr>\n",
       "      <td>1</td>\n",
       "      <td>DULCES</td>\n",
       "      <td>0750617451226</td>\n",
       "      <td>SNICKERS CHOCOLATE C</td>\n",
       "      <td>$23.50</td>\n",
       "      <td>-2.3%</td>\n",
       "      <td>23.50</td>\n",
       "      <td>-0.023</td>\n",
       "      <td>0</td>\n",
       "    </tr>\n",
       "    <tr>\n",
       "      <td>2</td>\n",
       "      <td>DULCES</td>\n",
       "      <td>0750617450264</td>\n",
       "      <td>SNICKERS 21.5 GR</td>\n",
       "      <td>$8.53</td>\n",
       "      <td>-5.5%</td>\n",
       "      <td>8.53</td>\n",
       "      <td>-0.055</td>\n",
       "      <td>2</td>\n",
       "    </tr>\n",
       "    <tr>\n",
       "      <td>3</td>\n",
       "      <td>DULCES</td>\n",
       "      <td>0750617451222</td>\n",
       "      <td>MILKYWAY CHOCO 2PACK</td>\n",
       "      <td>$23.00</td>\n",
       "      <td>-0.8%</td>\n",
       "      <td>23.00</td>\n",
       "      <td>-0.008</td>\n",
       "      <td>0</td>\n",
       "    </tr>\n",
       "    <tr>\n",
       "      <td>4</td>\n",
       "      <td>DULCES</td>\n",
       "      <td>0750617450265</td>\n",
       "      <td>MILKY WAY 22 GR</td>\n",
       "      <td>$8.61</td>\n",
       "      <td>-4.2%</td>\n",
       "      <td>8.61</td>\n",
       "      <td>-0.042</td>\n",
       "      <td>2</td>\n",
       "    </tr>\n",
       "    <tr>\n",
       "      <td>...</td>\n",
       "      <td>...</td>\n",
       "      <td>...</td>\n",
       "      <td>...</td>\n",
       "      <td>...</td>\n",
       "      <td>...</td>\n",
       "      <td>...</td>\n",
       "      <td>...</td>\n",
       "      <td>...</td>\n",
       "    </tr>\n",
       "    <tr>\n",
       "      <td>508</td>\n",
       "      <td>DULCES</td>\n",
       "      <td>0750616120995</td>\n",
       "      <td>GREZON HUEVO PEPPA</td>\n",
       "      <td>$22.50</td>\n",
       "      <td>-30.5%</td>\n",
       "      <td>22.50</td>\n",
       "      <td>-0.305</td>\n",
       "      <td>0</td>\n",
       "    </tr>\n",
       "    <tr>\n",
       "      <td>509</td>\n",
       "      <td>DULCES</td>\n",
       "      <td>0750616121743</td>\n",
       "      <td>GREZON HUEVO JACKIE</td>\n",
       "      <td>$22.50</td>\n",
       "      <td>-27.8%</td>\n",
       "      <td>22.50</td>\n",
       "      <td>-0.278</td>\n",
       "      <td>0</td>\n",
       "    </tr>\n",
       "    <tr>\n",
       "      <td>510</td>\n",
       "      <td>DULCES</td>\n",
       "      <td>0762230098658</td>\n",
       "      <td>HALLS MINI EXTRA STR</td>\n",
       "      <td>$8.99</td>\n",
       "      <td>-0.1%</td>\n",
       "      <td>8.99</td>\n",
       "      <td>-0.001</td>\n",
       "      <td>2</td>\n",
       "    </tr>\n",
       "    <tr>\n",
       "      <td>511</td>\n",
       "      <td>DULCES</td>\n",
       "      <td>0762230098650</td>\n",
       "      <td>HALLS MINI MENTA</td>\n",
       "      <td>$8.73</td>\n",
       "      <td>-3.1%</td>\n",
       "      <td>8.73</td>\n",
       "      <td>-0.031</td>\n",
       "      <td>2</td>\n",
       "    </tr>\n",
       "    <tr>\n",
       "      <td>512</td>\n",
       "      <td>DULCES</td>\n",
       "      <td>0000007614551</td>\n",
       "      <td>TOBLERONE CHOCOLATE</td>\n",
       "      <td>$30.00</td>\n",
       "      <td>48.3%</td>\n",
       "      <td>30.00</td>\n",
       "      <td>0.483</td>\n",
       "      <td>1</td>\n",
       "    </tr>\n",
       "  </tbody>\n",
       "</table>\n",
       "<p>513 rows × 8 columns</p>\n",
       "</div>"
      ],
      "text/plain": [
       "    Categoría            UPC           Descripción Precio WM   \\\n",
       "0      DULCES  0789100024836  NESTLE KIT-KAT 4FING    $14.94    \n",
       "1      DULCES  0750617451226  SNICKERS CHOCOLATE C    $23.50    \n",
       "2      DULCES  0750617450264      SNICKERS 21.5 GR     $8.53    \n",
       "3      DULCES  0750617451222  MILKYWAY CHOCO 2PACK    $23.00    \n",
       "4      DULCES  0750617450265       MILKY WAY 22 GR     $8.61    \n",
       "..        ...            ...                   ...        ...   \n",
       "508    DULCES  0750616120995    GREZON HUEVO PEPPA    $22.50    \n",
       "509    DULCES  0750616121743   GREZON HUEVO JACKIE    $22.50    \n",
       "510    DULCES  0762230098658  HALLS MINI EXTRA STR     $8.99    \n",
       "511    DULCES  0762230098650      HALLS MINI MENTA     $8.73    \n",
       "512    DULCES  0000007614551   TOBLERONE CHOCOLATE    $30.00    \n",
       "\n",
       "    Último %Dif Reportado  imp_Precio  pct_ult_dif  Clasif  \n",
       "0                   -6.4%       14.94       -0.064       0  \n",
       "1                   -2.3%       23.50       -0.023       0  \n",
       "2                   -5.5%        8.53       -0.055       2  \n",
       "3                   -0.8%       23.00       -0.008       0  \n",
       "4                   -4.2%        8.61       -0.042       2  \n",
       "..                    ...         ...          ...     ...  \n",
       "508                -30.5%       22.50       -0.305       0  \n",
       "509                -27.8%       22.50       -0.278       0  \n",
       "510                 -0.1%        8.99       -0.001       2  \n",
       "511                 -3.1%        8.73       -0.031       2  \n",
       "512                 48.3%       30.00        0.483       1  \n",
       "\n",
       "[513 rows x 8 columns]"
      ]
     },
     "execution_count": 47,
     "metadata": {},
     "output_type": "execute_result"
    }
   ],
   "source": [
    "type(y)\n",
    "y_Serie = pd.Series(y)\n",
    "print(y_Serie)\n",
    "print(y_Serie.unique())\n",
    "df_costo_wm_unpivoted_p['Clasif']=y_Serie\n",
    "df_costo_wm_unpivoted_p.tail(5)\n",
    "df_costo_wm_unpivoted_p"
   ]
  },
  {
   "cell_type": "code",
   "execution_count": 48,
   "metadata": {},
   "outputs": [
    {
     "data": {
      "text/html": [
       "<div>\n",
       "<style scoped>\n",
       "    .dataframe tbody tr th:only-of-type {\n",
       "        vertical-align: middle;\n",
       "    }\n",
       "\n",
       "    .dataframe tbody tr th {\n",
       "        vertical-align: top;\n",
       "    }\n",
       "\n",
       "    .dataframe thead th {\n",
       "        text-align: right;\n",
       "    }\n",
       "</style>\n",
       "<table border=\"1\" class=\"dataframe\">\n",
       "  <thead>\n",
       "    <tr style=\"text-align: right;\">\n",
       "      <th></th>\n",
       "      <th>Categoría</th>\n",
       "      <th>UPC</th>\n",
       "      <th>Descripción</th>\n",
       "      <th>Precio WM</th>\n",
       "      <th>Último %Dif Reportado</th>\n",
       "      <th>imp_Precio</th>\n",
       "      <th>pct_ult_dif</th>\n",
       "      <th>Clasif</th>\n",
       "    </tr>\n",
       "  </thead>\n",
       "  <tbody>\n",
       "    <tr>\n",
       "      <td>0</td>\n",
       "      <td>DULCES</td>\n",
       "      <td>0789100024836</td>\n",
       "      <td>NESTLE KIT-KAT 4FING</td>\n",
       "      <td>$14.94</td>\n",
       "      <td>-6.4%</td>\n",
       "      <td>14.94</td>\n",
       "      <td>-0.064</td>\n",
       "      <td>0</td>\n",
       "    </tr>\n",
       "    <tr>\n",
       "      <td>1</td>\n",
       "      <td>DULCES</td>\n",
       "      <td>0750617451226</td>\n",
       "      <td>SNICKERS CHOCOLATE C</td>\n",
       "      <td>$23.50</td>\n",
       "      <td>-2.3%</td>\n",
       "      <td>23.50</td>\n",
       "      <td>-0.023</td>\n",
       "      <td>0</td>\n",
       "    </tr>\n",
       "    <tr>\n",
       "      <td>3</td>\n",
       "      <td>DULCES</td>\n",
       "      <td>0750617451222</td>\n",
       "      <td>MILKYWAY CHOCO 2PACK</td>\n",
       "      <td>$23.00</td>\n",
       "      <td>-0.8%</td>\n",
       "      <td>23.00</td>\n",
       "      <td>-0.008</td>\n",
       "      <td>0</td>\n",
       "    </tr>\n",
       "    <tr>\n",
       "      <td>5</td>\n",
       "      <td>DULCES</td>\n",
       "      <td>0750610560606</td>\n",
       "      <td>TRIDENT VUP CHICLE Y</td>\n",
       "      <td>$17.85</td>\n",
       "      <td>-0.9%</td>\n",
       "      <td>17.85</td>\n",
       "      <td>-0.009</td>\n",
       "      <td>0</td>\n",
       "    </tr>\n",
       "    <tr>\n",
       "      <td>9</td>\n",
       "      <td>DULCES</td>\n",
       "      <td>0750610560605</td>\n",
       "      <td>TRIDENT VUP MENTA</td>\n",
       "      <td>$17.82</td>\n",
       "      <td>-2.4%</td>\n",
       "      <td>17.82</td>\n",
       "      <td>-0.024</td>\n",
       "      <td>0</td>\n",
       "    </tr>\n",
       "    <tr>\n",
       "      <td>...</td>\n",
       "      <td>...</td>\n",
       "      <td>...</td>\n",
       "      <td>...</td>\n",
       "      <td>...</td>\n",
       "      <td>...</td>\n",
       "      <td>...</td>\n",
       "      <td>...</td>\n",
       "      <td>...</td>\n",
       "    </tr>\n",
       "    <tr>\n",
       "      <td>505</td>\n",
       "      <td>DULCES</td>\n",
       "      <td>0762221087954</td>\n",
       "      <td>OREO CHOCOLATE CREMO</td>\n",
       "      <td>$14.98</td>\n",
       "      <td>25.6%</td>\n",
       "      <td>14.98</td>\n",
       "      <td>0.256</td>\n",
       "      <td>0</td>\n",
       "    </tr>\n",
       "    <tr>\n",
       "      <td>506</td>\n",
       "      <td>DULCES</td>\n",
       "      <td>0750616121867</td>\n",
       "      <td>GREZON PAW PATROL CH</td>\n",
       "      <td>$22.50</td>\n",
       "      <td>-18.7%</td>\n",
       "      <td>22.50</td>\n",
       "      <td>-0.187</td>\n",
       "      <td>0</td>\n",
       "    </tr>\n",
       "    <tr>\n",
       "      <td>507</td>\n",
       "      <td>DULCES</td>\n",
       "      <td>0750616121840</td>\n",
       "      <td>GREZON BLAZE MONSTER</td>\n",
       "      <td>$21.89</td>\n",
       "      <td>-25.4%</td>\n",
       "      <td>21.89</td>\n",
       "      <td>-0.254</td>\n",
       "      <td>0</td>\n",
       "    </tr>\n",
       "    <tr>\n",
       "      <td>508</td>\n",
       "      <td>DULCES</td>\n",
       "      <td>0750616120995</td>\n",
       "      <td>GREZON HUEVO PEPPA</td>\n",
       "      <td>$22.50</td>\n",
       "      <td>-30.5%</td>\n",
       "      <td>22.50</td>\n",
       "      <td>-0.305</td>\n",
       "      <td>0</td>\n",
       "    </tr>\n",
       "    <tr>\n",
       "      <td>509</td>\n",
       "      <td>DULCES</td>\n",
       "      <td>0750616121743</td>\n",
       "      <td>GREZON HUEVO JACKIE</td>\n",
       "      <td>$22.50</td>\n",
       "      <td>-27.8%</td>\n",
       "      <td>22.50</td>\n",
       "      <td>-0.278</td>\n",
       "      <td>0</td>\n",
       "    </tr>\n",
       "  </tbody>\n",
       "</table>\n",
       "<p>305 rows × 8 columns</p>\n",
       "</div>"
      ],
      "text/plain": [
       "    Categoría            UPC           Descripción Precio WM   \\\n",
       "0      DULCES  0789100024836  NESTLE KIT-KAT 4FING    $14.94    \n",
       "1      DULCES  0750617451226  SNICKERS CHOCOLATE C    $23.50    \n",
       "3      DULCES  0750617451222  MILKYWAY CHOCO 2PACK    $23.00    \n",
       "5      DULCES  0750610560606  TRIDENT VUP CHICLE Y    $17.85    \n",
       "9      DULCES  0750610560605     TRIDENT VUP MENTA    $17.82    \n",
       "..        ...            ...                   ...        ...   \n",
       "505    DULCES  0762221087954  OREO CHOCOLATE CREMO    $14.98    \n",
       "506    DULCES  0750616121867  GREZON PAW PATROL CH    $22.50    \n",
       "507    DULCES  0750616121840  GREZON BLAZE MONSTER    $21.89    \n",
       "508    DULCES  0750616120995    GREZON HUEVO PEPPA    $22.50    \n",
       "509    DULCES  0750616121743   GREZON HUEVO JACKIE    $22.50    \n",
       "\n",
       "    Último %Dif Reportado  imp_Precio  pct_ult_dif  Clasif  \n",
       "0                   -6.4%       14.94       -0.064       0  \n",
       "1                   -2.3%       23.50       -0.023       0  \n",
       "3                   -0.8%       23.00       -0.008       0  \n",
       "5                   -0.9%       17.85       -0.009       0  \n",
       "9                   -2.4%       17.82       -0.024       0  \n",
       "..                    ...         ...          ...     ...  \n",
       "505                 25.6%       14.98        0.256       0  \n",
       "506                -18.7%       22.50       -0.187       0  \n",
       "507                -25.4%       21.89       -0.254       0  \n",
       "508                -30.5%       22.50       -0.305       0  \n",
       "509                -27.8%       22.50       -0.278       0  \n",
       "\n",
       "[305 rows x 8 columns]"
      ]
     },
     "execution_count": 48,
     "metadata": {},
     "output_type": "execute_result"
    }
   ],
   "source": [
    "df_costo_wm_unpivoted_p[df_costo_wm_unpivoted_p['Clasif']==0]"
   ]
  },
  {
   "cell_type": "code",
   "execution_count": 49,
   "metadata": {},
   "outputs": [
    {
     "data": {
      "text/plain": [
       "<matplotlib.axes._subplots.AxesSubplot at 0x1d6f7cab0c8>"
      ]
     },
     "execution_count": 49,
     "metadata": {},
     "output_type": "execute_result"
    },
    {
     "data": {
      "image/png": "[encoded data removed]",
      "text/plain": [
       "<Figure size 432x288 with 1 Axes>"
      ]
     },
     "metadata": {
      "needs_background": "light"
     },
     "output_type": "display_data"
    }
   ],
   "source": [
    "## Gráfica tomada del dataframe\n",
    "sns.scatterplot(x='imp_Precio', y='pct_ult_dif', hue = 'Clasif',  data=df_costo_wm_unpivoted_p[df_costo_wm_unpivoted_p['Clasif']==0])"
   ]
  },
  {
   "cell_type": "code",
   "execution_count": 50,
   "metadata": {},
   "outputs": [
    {
     "data": {
      "text/plain": [
       "array([0, 2, 1], dtype=int64)"
      ]
     },
     "execution_count": 50,
     "metadata": {},
     "output_type": "execute_result"
    }
   ],
   "source": [
    "df_costo_wm_unpivoted_p['Clasif'].unique()"
   ]
  },
  {
   "cell_type": "code",
   "execution_count": 51,
   "metadata": {},
   "outputs": [
    {
     "data": {
      "text/plain": [
       "<matplotlib.axes._subplots.AxesSubplot at 0x1d6f980bd48>"
      ]
     },
     "execution_count": 51,
     "metadata": {},
     "output_type": "execute_result"
    },
    {
     "data": {
      "image/png": "[encoded data removed]",
      "text/plain": [
       "<Figure size 432x288 with 1 Axes>"
      ]
     },
     "metadata": {
      "needs_background": "light"
     },
     "output_type": "display_data"
    }
   ],
   "source": [
    "## Gráfica tomada del dataframe\n",
    "sns.scatterplot(x='imp_Precio', y='pct_ult_dif', hue = 'Clasif',  data=df_costo_wm_unpivoted_p)"
   ]
  },
  {
   "cell_type": "code",
   "execution_count": 52,
   "metadata": {},
   "outputs": [
    {
     "data": {
      "text/plain": [
       "<matplotlib.axes._subplots.AxesSubplot at 0x1d6f97f0608>"
      ]
     },
     "execution_count": 52,
     "metadata": {},
     "output_type": "execute_result"
    },
    {
     "data": {
      "image/png": "[encoded data removed]",
      "text/plain": [
       "<Figure size 432x288 with 1 Axes>"
      ]
     },
     "metadata": {
      "needs_background": "light"
     },
     "output_type": "display_data"
    }
   ],
   "source": [
    "#plt.scatter(df_costo_wm_unpivoted[['imp_Precio']],df_costo_wm_unpivoted[['pct_ult_dif']],c=y)\n",
    "\n",
    "sns.scatterplot(x='imp_Precio', y='pct_ult_dif', hue = y,  data=df_costo_wm_unpivoted_p)"
   ]
  },
  {
   "cell_type": "code",
   "execution_count": 53,
   "metadata": {},
   "outputs": [
    {
     "data": {
      "text/plain": [
       "-6153.391223911079"
      ]
     },
     "execution_count": 53,
     "metadata": {},
     "output_type": "execute_result"
    }
   ],
   "source": [
    "# Medida de error\n",
    "modelo.score(X)"
   ]
  },
  {
   "cell_type": "code",
   "execution_count": 54,
   "metadata": {},
   "outputs": [
    {
     "data": {
      "text/html": [
       "<div>\n",
       "<style scoped>\n",
       "    .dataframe tbody tr th:only-of-type {\n",
       "        vertical-align: middle;\n",
       "    }\n",
       "\n",
       "    .dataframe tbody tr th {\n",
       "        vertical-align: top;\n",
       "    }\n",
       "\n",
       "    .dataframe thead th {\n",
       "        text-align: right;\n",
       "    }\n",
       "</style>\n",
       "<table border=\"1\" class=\"dataframe\">\n",
       "  <thead>\n",
       "    <tr style=\"text-align: right;\">\n",
       "      <th></th>\n",
       "      <th>imp_Precio</th>\n",
       "      <th>pct_ult_dif</th>\n",
       "    </tr>\n",
       "  </thead>\n",
       "  <tbody>\n",
       "    <tr>\n",
       "      <td>0</td>\n",
       "      <td>14.94</td>\n",
       "      <td>-0.064</td>\n",
       "    </tr>\n",
       "    <tr>\n",
       "      <td>1</td>\n",
       "      <td>23.50</td>\n",
       "      <td>-0.023</td>\n",
       "    </tr>\n",
       "    <tr>\n",
       "      <td>2</td>\n",
       "      <td>8.53</td>\n",
       "      <td>-0.055</td>\n",
       "    </tr>\n",
       "    <tr>\n",
       "      <td>3</td>\n",
       "      <td>23.00</td>\n",
       "      <td>-0.008</td>\n",
       "    </tr>\n",
       "    <tr>\n",
       "      <td>4</td>\n",
       "      <td>8.61</td>\n",
       "      <td>-0.042</td>\n",
       "    </tr>\n",
       "    <tr>\n",
       "      <td>...</td>\n",
       "      <td>...</td>\n",
       "      <td>...</td>\n",
       "    </tr>\n",
       "    <tr>\n",
       "      <td>3799</td>\n",
       "      <td>85.06</td>\n",
       "      <td>0.018</td>\n",
       "    </tr>\n",
       "    <tr>\n",
       "      <td>3800</td>\n",
       "      <td>121.94</td>\n",
       "      <td>-0.063</td>\n",
       "    </tr>\n",
       "    <tr>\n",
       "      <td>3801</td>\n",
       "      <td>112.79</td>\n",
       "      <td>0.008</td>\n",
       "    </tr>\n",
       "    <tr>\n",
       "      <td>3802</td>\n",
       "      <td>38.00</td>\n",
       "      <td>-0.049</td>\n",
       "    </tr>\n",
       "    <tr>\n",
       "      <td>3803</td>\n",
       "      <td>43.50</td>\n",
       "      <td>-0.067</td>\n",
       "    </tr>\n",
       "  </tbody>\n",
       "</table>\n",
       "<p>3804 rows × 2 columns</p>\n",
       "</div>"
      ],
      "text/plain": [
       "      imp_Precio  pct_ult_dif\n",
       "0          14.94       -0.064\n",
       "1          23.50       -0.023\n",
       "2           8.53       -0.055\n",
       "3          23.00       -0.008\n",
       "4           8.61       -0.042\n",
       "...          ...          ...\n",
       "3799       85.06        0.018\n",
       "3800      121.94       -0.063\n",
       "3801      112.79        0.008\n",
       "3802       38.00       -0.049\n",
       "3803       43.50       -0.067\n",
       "\n",
       "[3804 rows x 2 columns]"
      ]
     },
     "execution_count": 54,
     "metadata": {},
     "output_type": "execute_result"
    }
   ],
   "source": [
    "df_costo_wm_unpivoted[['imp_Precio','pct_ult_dif']]"
   ]
  },
  {
   "cell_type": "code",
   "execution_count": 55,
   "metadata": {},
   "outputs": [
    {
     "name": "stdout",
     "output_type": "stream",
     "text": [
      "Help on method score in module sklearn.cluster._kmeans:\n",
      "\n",
      "score(X, y=None, sample_weight=None) method of sklearn.cluster._kmeans.KMeans instance\n",
      "    Opposite of the value of X on the K-means objective.\n",
      "    \n",
      "    Parameters\n",
      "    ----------\n",
      "    X : {array-like, sparse matrix} of shape (n_samples, n_features)\n",
      "        New data.\n",
      "    \n",
      "    y : Ignored\n",
      "        Not used, present here for API consistency by convention.\n",
      "    \n",
      "    sample_weight : array-like, shape (n_samples,), optional\n",
      "        The weights for each observation in X. If None, all observations\n",
      "        are assigned equal weight (default: None).\n",
      "    \n",
      "    Returns\n",
      "    -------\n",
      "    score : float\n",
      "        Opposite of the value of X on the K-means objective.\n",
      "\n"
     ]
    }
   ],
   "source": [
    "help(modelo.score)"
   ]
  },
  {
   "cell_type": "code",
   "execution_count": 56,
   "metadata": {},
   "outputs": [
    {
     "data": {
      "text/plain": [
       "6153.391223911074"
      ]
     },
     "execution_count": 56,
     "metadata": {},
     "output_type": "execute_result"
    }
   ],
   "source": [
    "modelo.inertia_"
   ]
  },
  {
   "cell_type": "code",
   "execution_count": 57,
   "metadata": {},
   "outputs": [
    {
     "data": {
      "text/plain": [
       "0.6495524755181692"
      ]
     },
     "execution_count": 57,
     "metadata": {},
     "output_type": "execute_result"
    }
   ],
   "source": [
    "from sklearn import metrics\n",
    "labels = modelo.labels_\n",
    "metrics.silhouette_score(X, labels, metric='euclidean')"
   ]
  },
  {
   "cell_type": "markdown",
   "metadata": {},
   "source": [
    "\n",
    "### 4.- Modelo SVM"
   ]
  },
  {
   "cell_type": "code",
   "execution_count": 58,
   "metadata": {},
   "outputs": [],
   "source": [
    "##2\n",
    "#División de datos en 70% entrenamiento y 30% pruebas.\n",
    "\n",
    "from sklearn.model_selection import train_test_split\n",
    "\n",
    "X_entrenamiento, X_prueba, y_entrenamiento, y_prueba = train_test_split(X,y, test_size=0.3, random_state=0)"
   ]
  },
  {
   "cell_type": "code",
   "execution_count": 59,
   "metadata": {},
   "outputs": [],
   "source": [
    "#Estandarización de datos -- Se recomienda estandarizar el subconjunto de datos de entrenamiento\n",
    "#y a partir de los parámetros (media y desviación estándar), utilizarlos para estandarizar el subconjunto de datos de prueba. \n",
    "\n",
    "from sklearn.preprocessing import StandardScaler\n",
    "\n",
    "estandarizacion = StandardScaler()\n",
    "estandarizacion.fit(X_entrenamiento)\n",
    "\n",
    "Z_entrenamiento = pd.DataFrame(estandarizacion.transform(X_entrenamiento))\n",
    "Z_prueba = pd.DataFrame(estandarizacion.transform(X_prueba))"
   ]
  },
  {
   "cell_type": "code",
   "execution_count": 60,
   "metadata": {},
   "outputs": [
    {
     "data": {
      "text/plain": [
       "SVC(C=1.0, break_ties=False, cache_size=200, class_weight=None, coef0=0.0,\n",
       "    decision_function_shape='ovr', degree=3, gamma='scale', kernel='linear',\n",
       "    max_iter=-1, probability=False, random_state=None, shrinking=True,\n",
       "    tol=0.001, verbose=False)"
      ]
     },
     "execution_count": 60,
     "metadata": {},
     "output_type": "execute_result"
    }
   ],
   "source": [
    "# Definir el modelo SVM (modelo) y entrenarlo\n",
    "from sklearn import svm\n",
    "\n",
    "modelo=svm.SVC(kernel='linear')\n",
    "modelo.fit(Z_entrenamiento,y_entrenamiento)"
   ]
  },
  {
   "cell_type": "code",
   "execution_count": 61,
   "metadata": {},
   "outputs": [],
   "source": [
    "# Obtener las predicciones (y_prediccion) del subconjunto de datos de pruebas\n",
    "y_prediccion=modelo.predict(Z_prueba)"
   ]
  },
  {
   "cell_type": "code",
   "execution_count": 62,
   "metadata": {},
   "outputs": [
    {
     "name": "stdout",
     "output_type": "stream",
     "text": [
      "              precision    recall  f1-score   support\n",
      "\n",
      "           0       0.97      1.00      0.99       101\n",
      "           1       1.00      1.00      1.00         7\n",
      "           2       1.00      0.93      0.97        46\n",
      "\n",
      "    accuracy                           0.98       154\n",
      "   macro avg       0.99      0.98      0.98       154\n",
      "weighted avg       0.98      0.98      0.98       154\n",
      "\n"
     ]
    },
    {
     "data": {
      "image/png": "[encoded data removed]",
      "text/plain": [
       "<Figure size 432x288 with 2 Axes>"
      ]
     },
     "metadata": {
      "needs_background": "light"
     },
     "output_type": "display_data"
    }
   ],
   "source": [
    "#Evaluar model de SVC\n",
    "\n",
    "\n",
    "from sklearn.metrics import classification_report\n",
    "from sklearn.metrics import plot_confusion_matrix\n",
    "import matplotlib.pyplot as plt\n",
    "\n",
    "print(classification_report(y_prueba,y_prediccion))\n",
    "\n",
    "mc = plot_confusion_matrix(modelo, Z_prueba, y_prueba, cmap=plt.cm.Blues, values_format = '0.0f')\n",
    "\n",
    "#print(mc.confusion_matrix)\n",
    "plt.show()"
   ]
  }
 ],
 "metadata": {
  "kernelspec": {
   "display_name": "Python 3",
   "language": "python",
   "name": "python3"
  },
  "language_info": {
   "codemirror_mode": {
    "name": "ipython",
    "version": 3
   },
   "file_extension": ".py",
   "mimetype": "text/x-python",
   "name": "python",
   "nbconvert_exporter": "python",
   "pygments_lexer": "ipython3",
   "version": "3.7.4"
  }
 },
 "nbformat": 4,
 "nbformat_minor": 2
}
